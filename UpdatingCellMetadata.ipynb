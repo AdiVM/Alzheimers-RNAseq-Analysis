{
 "cells": [
  {
   "cell_type": "code",
   "execution_count": 1,
   "id": "16e9111f-7fcb-4f7c-8060-308973c4288d",
   "metadata": {},
   "outputs": [],
   "source": [
    "#This file is only for data in the syn18485175 folder. Any code taken from this file, you need to chang the file names to avoid\n",
    "#over writing the previous files."
   ]
  },
  {
   "cell_type": "code",
   "execution_count": 2,
   "id": "c48a9a4b-c02d-4f18-8157-8d708c33372e",
   "metadata": {},
   "outputs": [],
   "source": [
    "import os\n",
    "import pandas as pd"
   ]
  },
  {
   "cell_type": "code",
   "execution_count": 3,
   "id": "8701a5d3-f7f5-47bf-8279-6080e6d09d57",
   "metadata": {},
   "outputs": [
    {
     "name": "stdin",
     "output_type": "stream",
     "text": [
      "Name of directory /n/groups/patel/randy/single_cell/syn18485175/data/\n"
     ]
    },
    {
     "name": "stdout",
     "output_type": "stream",
     "text": [
      "Files in directory: ['._CellRangerOutput_barcodes.tsv', '._CellRangerOutput_genes.tsv', '._CellRangerOutput_matrix.mtx', '._filtered_column_metadata.txt', '._filtered_count_matrix.mtx', '._filtered_gene_row_names.txt', '._notfiltered_column_metadata.txt', '._notfiltered_count_matrix.mtx', '._notfiltered_gene_row_names.txt', 'CellRangerOutput_barcodes.tsv', 'CellRangerOutput_genes.tsv', 'CellRangerOutput_matrix.mtx', 'filtered_column_metadata.txt', 'filtered_count_matrix.mtx', 'filtered_gene_row_names.txt', 'notfiltered_column_metadata.txt', 'notfiltered_count_matrix.mtx', 'notfiltered_gene_row_names.txt']\n"
     ]
    }
   ],
   "source": [
    "import os\n",
    "import pandas as pd\n",
    "data_directory = input(\"Name of directory\")\n",
    "#data_directory = '/n/groups/patel/randy/single_cell/syn18485175/data/'\n",
    "files = os.listdir(data_directory)\n",
    "print(\"Files in directory:\", files)"
   ]
  },
  {
   "cell_type": "code",
   "execution_count": 4,
   "id": "f27da02c-9582-401e-b3c2-0bdda91e938e",
   "metadata": {},
   "outputs": [],
   "source": [
    "#These are the files that I need: CellRangerOutput_barcodes.tsv, filtered_column_metadata.txt. \n",
    "#From my home directory I need to get the file patientnumber_diagnosis.csv. \n",
    "#I need to attach the diagnosis to every instnace of the projID in filtered_column_metadata.txt."
   ]
  },
  {
   "cell_type": "code",
   "execution_count": 5,
   "id": "b33fc79c-8d8b-4135-9cf7-ecc52df1a7ea",
   "metadata": {},
   "outputs": [
    {
     "name": "stdout",
     "output_type": "stream",
     "text": [
      "                      TAG    projid      tsne1      tsne2  pre.cluster  \\\n",
      "0      AAACGGGAGATCCCGC.1  11409232  18.076541  43.899396           15   \n",
      "1      AAATGCCTCCAATGGT.1  11409232   8.130535  20.687424            3   \n",
      "2      AACCATGTCAGTGCAT.1  11409232  17.088242  47.272289           15   \n",
      "3      AACCATGTCTGTACGA.1  11409232  15.482062  23.718378            3   \n",
      "4      AACCGCGTCCGCATAA.1  11409232  28.993102  16.223905            2   \n",
      "...                   ...       ...        ...        ...          ...   \n",
      "7995  GTCTTCGAGTTATCGC.10  20170043  19.676385 -25.876660            4   \n",
      "7996  GTCTTCGGTCCGAGTC.10  20170043  34.107218 -18.590653            2   \n",
      "7997  GTCTTCGGTCGCATCG.10  20170043   4.859117  -3.281372            6   \n",
      "7998  GTGAAGGCAGGACGTA.10  20170043  33.316535 -36.790915            2   \n",
      "7999  GTGAAGGGTTACTGAC.10  20170043  27.763994 -11.517600           16   \n",
      "\n",
      "     broad.cell.type Subcluster  msex  apoe_genotype     age_first_ad_dx  \\\n",
      "0                 Ex        Ex8   1.0           33.0                 NaN   \n",
      "1                 Ex        Ex0   1.0           33.0                 NaN   \n",
      "2                 Ex        Ex8   1.0           33.0                 NaN   \n",
      "3                 Ex        Ex0   1.0           33.0                 NaN   \n",
      "4                 Ex        Ex0   1.0           33.0                 NaN   \n",
      "...              ...        ...   ...            ...                 ...   \n",
      "7995              Ex        Ex1   0.0           33.0  83.723477070499655   \n",
      "7996              Ex        Ex4   0.0           33.0  83.723477070499655   \n",
      "7997              Ex        Ex5   0.0           33.0  83.723477070499655   \n",
      "7998              Ex        Ex4   0.0           33.0  83.723477070499655   \n",
      "7999              Ex       Ex12   0.0           33.0  83.723477070499655   \n",
      "\n",
      "      braaksc  \n",
      "0         3.0  \n",
      "1         3.0  \n",
      "2         3.0  \n",
      "3         3.0  \n",
      "4         3.0  \n",
      "...       ...  \n",
      "7995      5.0  \n",
      "7996      5.0  \n",
      "7997      5.0  \n",
      "7998      5.0  \n",
      "7999      5.0  \n",
      "\n",
      "[8000 rows x 11 columns]\n"
     ]
    },
    {
     "name": "stderr",
     "output_type": "stream",
     "text": [
      "/tmp/ipykernel_14841/1988133050.py:2: FutureWarning: The 'delim_whitespace' keyword in pd.read_csv is deprecated and will be removed in a future version. Use ``sep='\\s+'`` instead\n",
      "  filtered_metadata = pd.read_csv('filtered_column_metadata.txt', delim_whitespace=True)\n"
     ]
    }
   ],
   "source": [
    "import pandas as pd\n",
    "filtered_metadata = pd.read_csv('filtered_column_metadata.txt', delim_whitespace=True)\n",
    "#print(filtered_metadata.head())\n",
    "patient_diagnosis = pd.read_csv('patientnumber_metadata.csv')\n",
    "#print(patient_diagnosis.head())\n",
    "patient_metadata = pd.merge(filtered_metadata, patient_diagnosis, on='projid', how='left')\n",
    "\n",
    "print(patient_metadata.head(8000))\n",
    "patient_metadata.to_csv('initialmerged_file.csv', index=False, sep=',')"
   ]
  },
  {
   "cell_type": "code",
   "execution_count": 6,
   "id": "96926496-477d-4741-a4e2-6875cf144271",
   "metadata": {},
   "outputs": [
    {
     "name": "stdout",
     "output_type": "stream",
     "text": [
      "                  TAG    projid      tsne1      tsne2  pre.cluster  \\\n",
      "0  AAACGGGAGATCCCGC.1  11409232  18.076541  43.899396           15   \n",
      "1  AAATGCCTCCAATGGT.1  11409232   8.130535  20.687424            3   \n",
      "2  AACCATGTCAGTGCAT.1  11409232  17.088242  47.272289           15   \n",
      "3  AACCATGTCTGTACGA.1  11409232  15.482062  23.718378            3   \n",
      "4  AACCGCGTCCGCATAA.1  11409232  28.993102  16.223905            2   \n",
      "\n",
      "  broad.cell.type Subcluster  msex  apoe_genotype age_first_ad_dx  braaksc  \n",
      "0              Ex        Ex8   1.0           33.0             NaN      3.0  \n",
      "1              Ex        Ex0   1.0           33.0             NaN      3.0  \n",
      "2              Ex        Ex8   1.0           33.0             NaN      3.0  \n",
      "3              Ex        Ex0   1.0           33.0             NaN      3.0  \n",
      "4              Ex        Ex0   1.0           33.0             NaN      3.0  \n"
     ]
    }
   ],
   "source": [
    "initialmerged_file = pd.read_csv('/home/adm808/initialmerged_file.csv')\n",
    "print(initialmerged_file.head())"
   ]
  },
  {
   "cell_type": "code",
   "execution_count": 7,
   "id": "ccf096bf-5d2f-416e-abfb-5ab596b6c2c4",
   "metadata": {},
   "outputs": [
    {
     "name": "stdout",
     "output_type": "stream",
     "text": [
      "   sample    projid\n",
      "0       1  11409232\n",
      "1       2  11336574\n",
      "2       3  10260309\n",
      "3       4  10248033\n",
      "4       5  20207013\n"
     ]
    },
    {
     "name": "stderr",
     "output_type": "stream",
     "text": [
      "/tmp/ipykernel_14841/1873604594.py:2: FutureWarning: The 'delim_whitespace' keyword in pd.read_csv is deprecated and will be removed in a future version. Use ``sep='\\s+'`` instead\n",
      "  Sample_key = pd.read_csv('/home/adm808/Sample_key.csv', delim_whitespace=True)\n"
     ]
    },
    {
     "name": "stdout",
     "output_type": "stream",
     "text": [
      "                  TAG    projid      tsne1      tsne2  pre.cluster  \\\n",
      "0  AAACGGGAGATCCCGC.1  11409232  18.076541  43.899396           15   \n",
      "1  AAATGCCTCCAATGGT.1  11409232   8.130535  20.687424            3   \n",
      "2  AACCATGTCAGTGCAT.1  11409232  17.088242  47.272289           15   \n",
      "3  AACCATGTCTGTACGA.1  11409232  15.482062  23.718378            3   \n",
      "4  AACCGCGTCCGCATAA.1  11409232  28.993102  16.223905            2   \n",
      "\n",
      "  broad.cell.type Subcluster  msex  apoe_genotype age_first_ad_dx  braaksc  \\\n",
      "0              Ex        Ex8   1.0           33.0             NaN      3.0   \n",
      "1              Ex        Ex0   1.0           33.0             NaN      3.0   \n",
      "2              Ex        Ex8   1.0           33.0             NaN      3.0   \n",
      "3              Ex        Ex0   1.0           33.0             NaN      3.0   \n",
      "4              Ex        Ex0   1.0           33.0             NaN      3.0   \n",
      "\n",
      "   sample  \n",
      "0       1  \n",
      "1       1  \n",
      "2       1  \n",
      "3       1  \n",
      "4       1  \n"
     ]
    }
   ],
   "source": [
    "#Sample_key.to_csv('Sample_key1.csv', index=False, sep='')\n",
    "Sample_key = pd.read_csv('/home/adm808/Sample_key.csv', delim_whitespace=True)\n",
    "print(Sample_key.head())\n",
    "merged_patient_metadata = pd.read_csv('/home/adm808/initialmerged_file.csv')\n",
    "final_patient_metadata = pd.merge(merged_patient_metadata, Sample_key, on='projid', how='left')\n",
    "final_patient_metadata.to_csv('final_patient_metadata.csv', sep=',', index=False)\n",
    "print(final_patient_metadata.head())\n"
   ]
  },
  {
   "cell_type": "code",
   "execution_count": 8,
   "id": "ed3c524f-a197-4185-8c9d-83bd4918c07a",
   "metadata": {},
   "outputs": [
    {
     "name": "stdout",
     "output_type": "stream",
     "text": [
      "         projid                  TAG     age_first_ad_dx  msex  apoe_genotype  \\\n",
      "0      11409232   AAACGGGAGATCCCGC.1                 NaN   1.0           33.0   \n",
      "1      11409232   AAATGCCTCCAATGGT.1                 NaN   1.0           33.0   \n",
      "2      11409232   AACCATGTCAGTGCAT.1                 NaN   1.0           33.0   \n",
      "3      11409232   AACCATGTCTGTACGA.1                 NaN   1.0           33.0   \n",
      "4      11409232   AACCGCGTCCGCATAA.1                 NaN   1.0           33.0   \n",
      "...         ...                  ...                 ...   ...            ...   \n",
      "70629  11302830  AGGCCGTAGAGCAATT.48  84.522929500342229   1.0           34.0   \n",
      "70630  11302830  AGTGAGGGTGCAACGA.48  84.522929500342229   1.0           34.0   \n",
      "70631  11302830  CACACTCTCTCTGAGA.48  84.522929500342229   1.0           34.0   \n",
      "70632  11302830  TAGTGGTAGAATGTTG.48  84.522929500342229   1.0           34.0   \n",
      "70633  11302830  TGCCCATAGTAGGTGC.48  84.522929500342229   1.0           34.0   \n",
      "\n",
      "       sample broad.cell.type  \n",
      "0           1              Ex  \n",
      "1           1              Ex  \n",
      "2           1              Ex  \n",
      "3           1              Ex  \n",
      "4           1              Ex  \n",
      "...       ...             ...  \n",
      "70629      48             Per  \n",
      "70630      48             Per  \n",
      "70631      48             Per  \n",
      "70632      48             End  \n",
      "70633      48             Per  \n",
      "\n",
      "[70634 rows x 7 columns]\n"
     ]
    }
   ],
   "source": [
    "#Now we have a merged data frame. We need to select only the columns of relevance. \n",
    "#Columns of relevance are TAG, projid, age_first_ad_dx, and broad.cell.type.\n",
    "\n",
    "df = pd.DataFrame(final_patient_metadata)\n",
    "selected_columns = ['projid', 'TAG', 'age_first_ad_dx', 'msex', 'apoe_genotype', 'sample', 'broad.cell.type']\n",
    "new_df = df[selected_columns]\n",
    "\n",
    "# Save the new DataFrame to a file\n",
    "new_df.to_csv('selected_columns_file.txt', index=False, sep=' ')\n",
    "\n",
    "# Verify the new DataFrame\n",
    "print(new_df)"
   ]
  },
  {
   "cell_type": "code",
   "execution_count": 9,
   "id": "049518b5-ed66-4891-893b-7dfbbbfa29ef",
   "metadata": {},
   "outputs": [],
   "source": [
    "apoe_genotype = pd.get_dummies(new_df, columns = [\"apoe_genotype\"])"
   ]
  },
  {
   "cell_type": "code",
   "execution_count": 10,
   "id": "0d509127-a4e2-4cd8-811f-8976e4ec867c",
   "metadata": {},
   "outputs": [],
   "source": [
    "new_df.to_csv('/home/adm808/CellMetadataSyn18485175.csv')"
   ]
  },
  {
   "cell_type": "code",
   "execution_count": 11,
   "id": "cd3ea9cb-e1a9-4f9a-b2b3-75788d40859d",
   "metadata": {},
   "outputs": [
    {
     "name": "stdout",
     "output_type": "stream",
     "text": [
      "   Unnamed: 0    projid                 TAG age_first_ad_dx  msex  \\\n",
      "0           0  11409232  AAACGGGAGATCCCGC.1             NaN   1.0   \n",
      "1           1  11409232  AAATGCCTCCAATGGT.1             NaN   1.0   \n",
      "2           2  11409232  AACCATGTCAGTGCAT.1             NaN   1.0   \n",
      "3           3  11409232  AACCATGTCTGTACGA.1             NaN   1.0   \n",
      "4           4  11409232  AACCGCGTCCGCATAA.1             NaN   1.0   \n",
      "\n",
      "   apoe_genotype  sample broad.cell.type  \n",
      "0           33.0       1              Ex  \n",
      "1           33.0       1              Ex  \n",
      "2           33.0       1              Ex  \n",
      "3           33.0       1              Ex  \n",
      "4           33.0       1              Ex  \n"
     ]
    }
   ],
   "source": [
    "CellMetadataSyn18 = pd.read_csv('/home/adm808/CellMetadataSyn18485175.csv')\n",
    "print(CellMetadataSyn18.head())"
   ]
  },
  {
   "cell_type": "code",
   "execution_count": 12,
   "id": "05ed1825-3d70-46c3-8279-bd5a141f7df7",
   "metadata": {},
   "outputs": [
    {
     "data": {
      "text/plain": [
       "apoe_genotype\n",
       "33.0    36203\n",
       "23.0    17526\n",
       "34.0     9166\n",
       "44.0     6181\n",
       "Name: count, dtype: int64"
      ]
     },
     "execution_count": 12,
     "metadata": {},
     "output_type": "execute_result"
    }
   ],
   "source": [
    "CellMetadataSyn18.apoe_genotype.value_counts()"
   ]
  },
  {
   "cell_type": "code",
   "execution_count": 13,
   "id": "d8d22aa8-1dca-4461-a7e0-111060c4d176",
   "metadata": {},
   "outputs": [
    {
     "data": {
      "text/html": [
       "<div>\n",
       "<style scoped>\n",
       "    .dataframe tbody tr th:only-of-type {\n",
       "        vertical-align: middle;\n",
       "    }\n",
       "\n",
       "    .dataframe tbody tr th {\n",
       "        vertical-align: top;\n",
       "    }\n",
       "\n",
       "    .dataframe thead th {\n",
       "        text-align: right;\n",
       "    }\n",
       "</style>\n",
       "<table border=\"1\" class=\"dataframe\">\n",
       "  <thead>\n",
       "    <tr style=\"text-align: right;\">\n",
       "      <th></th>\n",
       "      <th>projid</th>\n",
       "      <th>TAG</th>\n",
       "      <th>age_first_ad_dx</th>\n",
       "      <th>msex</th>\n",
       "      <th>sample</th>\n",
       "      <th>broad.cell.type</th>\n",
       "      <th>apoe_genotype_23.0</th>\n",
       "      <th>apoe_genotype_33.0</th>\n",
       "      <th>apoe_genotype_34.0</th>\n",
       "      <th>apoe_genotype_44.0</th>\n",
       "    </tr>\n",
       "  </thead>\n",
       "  <tbody>\n",
       "    <tr>\n",
       "      <th>0</th>\n",
       "      <td>11409232</td>\n",
       "      <td>AAACGGGAGATCCCGC.1</td>\n",
       "      <td>NaN</td>\n",
       "      <td>1.0</td>\n",
       "      <td>1</td>\n",
       "      <td>Ex</td>\n",
       "      <td>False</td>\n",
       "      <td>True</td>\n",
       "      <td>False</td>\n",
       "      <td>False</td>\n",
       "    </tr>\n",
       "    <tr>\n",
       "      <th>1</th>\n",
       "      <td>11409232</td>\n",
       "      <td>AAATGCCTCCAATGGT.1</td>\n",
       "      <td>NaN</td>\n",
       "      <td>1.0</td>\n",
       "      <td>1</td>\n",
       "      <td>Ex</td>\n",
       "      <td>False</td>\n",
       "      <td>True</td>\n",
       "      <td>False</td>\n",
       "      <td>False</td>\n",
       "    </tr>\n",
       "    <tr>\n",
       "      <th>2</th>\n",
       "      <td>11409232</td>\n",
       "      <td>AACCATGTCAGTGCAT.1</td>\n",
       "      <td>NaN</td>\n",
       "      <td>1.0</td>\n",
       "      <td>1</td>\n",
       "      <td>Ex</td>\n",
       "      <td>False</td>\n",
       "      <td>True</td>\n",
       "      <td>False</td>\n",
       "      <td>False</td>\n",
       "    </tr>\n",
       "    <tr>\n",
       "      <th>3</th>\n",
       "      <td>11409232</td>\n",
       "      <td>AACCATGTCTGTACGA.1</td>\n",
       "      <td>NaN</td>\n",
       "      <td>1.0</td>\n",
       "      <td>1</td>\n",
       "      <td>Ex</td>\n",
       "      <td>False</td>\n",
       "      <td>True</td>\n",
       "      <td>False</td>\n",
       "      <td>False</td>\n",
       "    </tr>\n",
       "    <tr>\n",
       "      <th>4</th>\n",
       "      <td>11409232</td>\n",
       "      <td>AACCGCGTCCGCATAA.1</td>\n",
       "      <td>NaN</td>\n",
       "      <td>1.0</td>\n",
       "      <td>1</td>\n",
       "      <td>Ex</td>\n",
       "      <td>False</td>\n",
       "      <td>True</td>\n",
       "      <td>False</td>\n",
       "      <td>False</td>\n",
       "    </tr>\n",
       "  </tbody>\n",
       "</table>\n",
       "</div>"
      ],
      "text/plain": [
       "     projid                 TAG age_first_ad_dx  msex  sample broad.cell.type  \\\n",
       "0  11409232  AAACGGGAGATCCCGC.1             NaN   1.0       1              Ex   \n",
       "1  11409232  AAATGCCTCCAATGGT.1             NaN   1.0       1              Ex   \n",
       "2  11409232  AACCATGTCAGTGCAT.1             NaN   1.0       1              Ex   \n",
       "3  11409232  AACCATGTCTGTACGA.1             NaN   1.0       1              Ex   \n",
       "4  11409232  AACCGCGTCCGCATAA.1             NaN   1.0       1              Ex   \n",
       "\n",
       "   apoe_genotype_23.0  apoe_genotype_33.0  apoe_genotype_34.0  \\\n",
       "0               False                True               False   \n",
       "1               False                True               False   \n",
       "2               False                True               False   \n",
       "3               False                True               False   \n",
       "4               False                True               False   \n",
       "\n",
       "   apoe_genotype_44.0  \n",
       "0               False  \n",
       "1               False  \n",
       "2               False  \n",
       "3               False  \n",
       "4               False  "
      ]
     },
     "execution_count": 13,
     "metadata": {},
     "output_type": "execute_result"
    }
   ],
   "source": [
    "apoe_genotype.head()"
   ]
  },
  {
   "cell_type": "code",
   "execution_count": null,
   "id": "9689eb61-3ec5-4d1f-a92d-2e7e359b6b2c",
   "metadata": {},
   "outputs": [],
   "source": []
  }
 ],
 "metadata": {
  "kernelspec": {
   "display_name": "Python 3 (ipykernel)",
   "language": "python",
   "name": "python3"
  },
  "language_info": {
   "codemirror_mode": {
    "name": "ipython",
    "version": 3
   },
   "file_extension": ".py",
   "mimetype": "text/x-python",
   "name": "python",
   "nbconvert_exporter": "python",
   "pygments_lexer": "ipython3",
   "version": "3.10.11"
  }
 },
 "nbformat": 4,
 "nbformat_minor": 5
}
