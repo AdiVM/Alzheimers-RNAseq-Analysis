{
 "cells": [
  {
   "cell_type": "code",
   "execution_count": 1,
   "id": "16e9111f-7fcb-4f7c-8060-308973c4288d",
   "metadata": {},
   "outputs": [],
   "source": [
    "#This file is only for data in the syn18485175 folder. Any code taken from this file, you need to chang the file names to avoid\n",
    "#over writing the previous files."
   ]
  },
  {
   "cell_type": "code",
   "execution_count": 1,
   "id": "c48a9a4b-c02d-4f18-8157-8d708c33372e",
   "metadata": {},
   "outputs": [],
   "source": [
    "import os\n",
    "import pandas as pd"
   ]
  },
  {
   "cell_type": "code",
   "execution_count": 2,
   "id": "8701a5d3-f7f5-47bf-8279-6080e6d09d57",
   "metadata": {},
   "outputs": [
    {
     "name": "stdout",
     "output_type": "stream",
     "text": [
      "Files in directory: ['.DS_Store', '._.DS_Store', 'data', 'metadata']\n"
     ]
    }
   ],
   "source": [
    "import os\n",
    "import pandas as pd\n",
    "#data_directory = input(\"Name of directory\")\n",
    "data_directory = '/n/groups/patel/randy/single_cell/syn18485175/'\n",
    "files = os.listdir(data_directory)\n",
    "os.chdir(data_directory)\n",
    "print(\"Files in directory:\", files)"
   ]
  },
  {
   "cell_type": "code",
   "execution_count": 4,
   "id": "f27da02c-9582-401e-b3c2-0bdda91e938e",
   "metadata": {},
   "outputs": [],
   "source": [
    "#These are the files that I need: CellRangerOutput_barcodes.tsv, filtered_column_metadata.txt. \n",
    "#From my home directory I need to get the file patientnumber_diagnosis.csv. \n",
    "#I need to attach the diagnosis to every instnace of the projID in filtered_column_metadata.txt."
   ]
  },
  {
   "cell_type": "code",
   "execution_count": 9,
   "id": "937b716e-26ce-45c4-aa15-5801bd8e0c18",
   "metadata": {},
   "outputs": [
    {
     "name": "stderr",
     "output_type": "stream",
     "text": [
      "/tmp/ipykernel_8562/332300261.py:4: FutureWarning: The 'delim_whitespace' keyword in pd.read_csv is deprecated and will be removed in a future version. Use ``sep='\\s+'`` instead\n",
      "  filtered_metadata = pd.read_csv('data/filtered_column_metadata.txt', delim_whitespace=True)\n"
     ]
    },
    {
     "name": "stdout",
     "output_type": "stream",
     "text": [
      "ROSMAP clinical metadata is loaded\n",
      "Merged metadata with ROSMAP clinical data (only matching projid retained)\n",
      "Final merged dataset saved successfully\n",
      "                  TAG    projid      tsne1      tsne2  pre.cluster  \\\n",
      "0  AAACGGGAGATCCCGC.1  11409232  18.076541  43.899396           15   \n",
      "1  AAATGCCTCCAATGGT.1  11409232   8.130535  20.687424            3   \n",
      "2  AACCATGTCAGTGCAT.1  11409232  17.088242  47.272289           15   \n",
      "3  AACCATGTCTGTACGA.1  11409232  15.482062  23.718378            3   \n",
      "4  AACCGCGTCCGCATAA.1  11409232  28.993102  16.223905            2   \n",
      "\n",
      "  broad.cell.type Subcluster  msex  apoe_genotype age_first_ad_dx  ...  \\\n",
      "0              Ex        Ex8   1.0           33.0             NaN  ...   \n",
      "1              Ex        Ex0   1.0           33.0             NaN  ...   \n",
      "2              Ex        Ex8   1.0           33.0             NaN  ...   \n",
      "3              Ex        Ex0   1.0           33.0             NaN  ...   \n",
      "4              Ex        Ex0   1.0           33.0             NaN  ...   \n",
      "\n",
      "   spanish    age_at_visit_max           age_death  cts_mmse30_first_ad_dx  \\\n",
      "0      2.0  79.920602327173171  80.098562628336751                     NaN   \n",
      "1      2.0  79.920602327173171  80.098562628336751                     NaN   \n",
      "2      2.0  79.920602327173171  80.098562628336751                     NaN   \n",
      "3      2.0  79.920602327173171  80.098562628336751                     NaN   \n",
      "4      2.0  79.920602327173171  80.098562628336751                     NaN   \n",
      "\n",
      "   cts_mmse30_lv       pmi ceradsc  cogdx  dcfdx_lv  individualID  \n",
      "0           30.0  1.333333     4.0    2.0       2.0      R8744945  \n",
      "1           30.0  1.333333     4.0    2.0       2.0      R8744945  \n",
      "2           30.0  1.333333     4.0    2.0       2.0      R8744945  \n",
      "3           30.0  1.333333     4.0    2.0       2.0      R8744945  \n",
      "4           30.0  1.333333     4.0    2.0       2.0      R8744945  \n",
      "\n",
      "[5 rows x 24 columns]\n"
     ]
    }
   ],
   "source": [
    "import pandas as pd\n",
    "\n",
    "# Load initial metadata files\n",
    "filtered_metadata = pd.read_csv('data/filtered_column_metadata.txt', delim_whitespace=True)\n",
    "patient_diagnosis = pd.read_csv('/home/adm808/patientnumber_metadata.csv')\n",
    "\n",
    "# Merge filtered_metadata and patient_diagnosis\n",
    "patient_metadata = pd.merge(filtered_metadata, patient_diagnosis, on='projid', how='left')\n",
    "\n",
    "# Load additional ROSMAP clinical metadata\n",
    "rosmap_clinical = pd.read_csv('metadata/ROSMAP_clinical.csv')\n",
    "print(\"ROSMAP clinical metadata is loaded\")\n",
    "\n",
    "# Identify overlapping columns (excluding 'projid')\n",
    "common_columns = set(patient_metadata.columns) & set(rosmap_clinical.columns)\n",
    "common_columns.discard(\"projid\")  # Ensure 'projid' is not removed\n",
    "\n",
    "# Drop duplicate columns from ROSMAP clinical to prevent `_x` and `_y` suffixes\n",
    "rosmap_clinical = rosmap_clinical.drop(columns=common_columns)\n",
    "\n",
    "# Merge the dataframes (inner join to retain only matching 'projid' values)\n",
    "patient_metadata = patient_metadata.merge(rosmap_clinical, on='projid', how='inner')\n",
    "print(\"Merged metadata with ROSMAP clinical data (only matching projid retained)\")\n",
    "\n",
    "# Save the cleaned and merged metadata to a CSV file\n",
    "patient_metadata.to_csv('/home/adm808/new_initial_merged_file.csv', index=False, sep=',')\n",
    "\n",
    "print(\"Final merged dataset saved successfully\")\n",
    "print(patient_metadata.head(5))"
   ]
  },
  {
   "cell_type": "code",
   "execution_count": 6,
   "id": "3eda7944-0b45-468c-9598-0f4c4a7c4a5b",
   "metadata": {},
   "outputs": [
    {
     "name": "stdout",
     "output_type": "stream",
     "text": [
      "0        11409232\n",
      "1        11409232\n",
      "2        11409232\n",
      "3        11409232\n",
      "4        11409232\n",
      "           ...   \n",
      "70629    11302830\n",
      "70630    11302830\n",
      "70631    11302830\n",
      "70632    11302830\n",
      "70633    11302830\n",
      "Name: projid, Length: 70634, dtype: int64\n"
     ]
    }
   ],
   "source": [
    "print(patient_metadata['projid'])"
   ]
  },
  {
   "cell_type": "code",
   "execution_count": 12,
   "id": "b33fc79c-8d8b-4135-9cf7-ecc52df1a7ea",
   "metadata": {},
   "outputs": [
    {
     "name": "stderr",
     "output_type": "stream",
     "text": [
      "/tmp/ipykernel_28569/4175469268.py:2: FutureWarning: The 'delim_whitespace' keyword in pd.read_csv is deprecated and will be removed in a future version. Use ``sep='\\s+'`` instead\n",
      "  filtered_metadata = pd.read_csv('data/filtered_column_metadata.txt', delim_whitespace=True)\n"
     ]
    },
    {
     "name": "stdout",
     "output_type": "stream",
     "text": [
      "ROSMAP clinical metadata is loaded\n",
      "Merged metadata with ROSMAP clinical data\n",
      "                  TAG    projid      tsne1      tsne2  pre.cluster  \\\n",
      "0  AAACGGGAGATCCCGC.1  11409232  18.076541  43.899396           15   \n",
      "1  AAATGCCTCCAATGGT.1  11409232   8.130535  20.687424            3   \n",
      "2  AACCATGTCAGTGCAT.1  11409232  17.088242  47.272289           15   \n",
      "3  AACCATGTCTGTACGA.1  11409232  15.482062  23.718378            3   \n",
      "4  AACCGCGTCCGCATAA.1  11409232  28.993102  16.223905            2   \n",
      "\n",
      "  broad.cell.type Subcluster  msex_x  apoe_genotype_x age_first_ad_dx_x  ...  \\\n",
      "0              Ex        Ex8     1.0             33.0               NaN  ...   \n",
      "1              Ex        Ex0     1.0             33.0               NaN  ...   \n",
      "2              Ex        Ex8     1.0             33.0               NaN  ...   \n",
      "3              Ex        Ex0     1.0             33.0               NaN  ...   \n",
      "4              Ex        Ex0     1.0             33.0               NaN  ...   \n",
      "\n",
      "   age_first_ad_dx_y           age_death  cts_mmse30_first_ad_dx  \\\n",
      "0                NaN  80.098562628336751                     NaN   \n",
      "1                NaN  80.098562628336751                     NaN   \n",
      "2                NaN  80.098562628336751                     NaN   \n",
      "3                NaN  80.098562628336751                     NaN   \n",
      "4                NaN  80.098562628336751                     NaN   \n",
      "\n",
      "   cts_mmse30_lv       pmi  braaksc_y  ceradsc cogdx dcfdx_lv individualID  \n",
      "0           30.0  1.333333        3.0      4.0   2.0      2.0     R8744945  \n",
      "1           30.0  1.333333        3.0      4.0   2.0      2.0     R8744945  \n",
      "2           30.0  1.333333        3.0      4.0   2.0      2.0     R8744945  \n",
      "3           30.0  1.333333        3.0      4.0   2.0      2.0     R8744945  \n",
      "4           30.0  1.333333        3.0      4.0   2.0      2.0     R8744945  \n",
      "\n",
      "[5 rows x 28 columns]\n"
     ]
    }
   ],
   "source": [
    "# import pandas as pd\n",
    "# filtered_metadata = pd.read_csv('data/filtered_column_metadata.txt', delim_whitespace=True)\n",
    "# #print(filtered_metadata.head())\n",
    "# patient_diagnosis = pd.read_csv('/home/adm808/patientnumber_metadata.csv')\n",
    "# #print(patient_diagnosis.head())\n",
    "# patient_metadata = pd.merge(filtered_metadata, patient_diagnosis, on='projid', how='left')\n",
    "\n",
    "# # Load additional ROSMAP clinical metadata\n",
    "# rosmap_clinical = pd.read_csv('metadata/ROSMAP_clinical.csv')\n",
    "# print(\"ROSMAP clinical metadata is loaded\")\n",
    "\n",
    "# # Merge ROSMAP clinical metadata with patient metadata\n",
    "# patient_metadata = patient_metadata.merge(rosmap_clinical, on='projid', how='left')\n",
    "# print(\"Merged metadata with ROSMAP clinical data\")\n",
    "\n",
    "# # Save the merged metadata to a CSV file\n",
    "# print(patient_metadata.head(5))\n",
    "# patient_metadata.to_csv('/home/adm808/new_initial_merged_file.csv', index=False, sep=',')"
   ]
  },
  {
   "cell_type": "code",
   "execution_count": 10,
   "id": "96926496-477d-4741-a4e2-6875cf144271",
   "metadata": {},
   "outputs": [
    {
     "name": "stdout",
     "output_type": "stream",
     "text": [
      "                  TAG    projid      tsne1      tsne2  pre.cluster  \\\n",
      "0  AAACGGGAGATCCCGC.1  11409232  18.076541  43.899396           15   \n",
      "1  AAATGCCTCCAATGGT.1  11409232   8.130535  20.687424            3   \n",
      "2  AACCATGTCAGTGCAT.1  11409232  17.088242  47.272289           15   \n",
      "3  AACCATGTCTGTACGA.1  11409232  15.482062  23.718378            3   \n",
      "4  AACCGCGTCCGCATAA.1  11409232  28.993102  16.223905            2   \n",
      "\n",
      "  broad.cell.type Subcluster  msex  apoe_genotype age_first_ad_dx  ...  \\\n",
      "0              Ex        Ex8   1.0           33.0             NaN  ...   \n",
      "1              Ex        Ex0   1.0           33.0             NaN  ...   \n",
      "2              Ex        Ex8   1.0           33.0             NaN  ...   \n",
      "3              Ex        Ex0   1.0           33.0             NaN  ...   \n",
      "4              Ex        Ex0   1.0           33.0             NaN  ...   \n",
      "\n",
      "   spanish    age_at_visit_max           age_death  cts_mmse30_first_ad_dx  \\\n",
      "0      2.0  79.920602327173171  80.098562628336751                     NaN   \n",
      "1      2.0  79.920602327173171  80.098562628336751                     NaN   \n",
      "2      2.0  79.920602327173171  80.098562628336751                     NaN   \n",
      "3      2.0  79.920602327173171  80.098562628336751                     NaN   \n",
      "4      2.0  79.920602327173171  80.098562628336751                     NaN   \n",
      "\n",
      "   cts_mmse30_lv       pmi ceradsc  cogdx  dcfdx_lv  individualID  \n",
      "0           30.0  1.333333     4.0    2.0       2.0      R8744945  \n",
      "1           30.0  1.333333     4.0    2.0       2.0      R8744945  \n",
      "2           30.0  1.333333     4.0    2.0       2.0      R8744945  \n",
      "3           30.0  1.333333     4.0    2.0       2.0      R8744945  \n",
      "4           30.0  1.333333     4.0    2.0       2.0      R8744945  \n",
      "\n",
      "[5 rows x 24 columns]\n"
     ]
    }
   ],
   "source": [
    "initialmerged_file = pd.read_csv('/home/adm808/new_initial_merged_file.csv')\n",
    "print(initialmerged_file.head())"
   ]
  },
  {
   "cell_type": "code",
   "execution_count": 11,
   "id": "ccf096bf-5d2f-416e-abfb-5ab596b6c2c4",
   "metadata": {},
   "outputs": [
    {
     "name": "stderr",
     "output_type": "stream",
     "text": [
      "/tmp/ipykernel_8562/3666144059.py:2: FutureWarning: The 'delim_whitespace' keyword in pd.read_csv is deprecated and will be removed in a future version. Use ``sep='\\s+'`` instead\n",
      "  Sample_key = pd.read_csv('/home/adm808/Sample_key.csv', delim_whitespace=True)\n"
     ]
    },
    {
     "name": "stdout",
     "output_type": "stream",
     "text": [
      "   sample    projid\n",
      "0       1  11409232\n",
      "1       2  11336574\n",
      "2       3  10260309\n",
      "3       4  10248033\n",
      "4       5  20207013\n",
      "                  TAG    projid      tsne1      tsne2  pre.cluster  \\\n",
      "0  AAACGGGAGATCCCGC.1  11409232  18.076541  43.899396           15   \n",
      "1  AAATGCCTCCAATGGT.1  11409232   8.130535  20.687424            3   \n",
      "2  AACCATGTCAGTGCAT.1  11409232  17.088242  47.272289           15   \n",
      "3  AACCATGTCTGTACGA.1  11409232  15.482062  23.718378            3   \n",
      "4  AACCGCGTCCGCATAA.1  11409232  28.993102  16.223905            2   \n",
      "\n",
      "  broad.cell.type Subcluster  msex  apoe_genotype age_first_ad_dx  ...  \\\n",
      "0              Ex        Ex8   1.0           33.0             NaN  ...   \n",
      "1              Ex        Ex0   1.0           33.0             NaN  ...   \n",
      "2              Ex        Ex8   1.0           33.0             NaN  ...   \n",
      "3              Ex        Ex0   1.0           33.0             NaN  ...   \n",
      "4              Ex        Ex0   1.0           33.0             NaN  ...   \n",
      "\n",
      "     age_at_visit_max           age_death  cts_mmse30_first_ad_dx  \\\n",
      "0  79.920602327173171  80.098562628336751                     NaN   \n",
      "1  79.920602327173171  80.098562628336751                     NaN   \n",
      "2  79.920602327173171  80.098562628336751                     NaN   \n",
      "3  79.920602327173171  80.098562628336751                     NaN   \n",
      "4  79.920602327173171  80.098562628336751                     NaN   \n",
      "\n",
      "   cts_mmse30_lv       pmi ceradsc cogdx  dcfdx_lv  individualID  sample  \n",
      "0           30.0  1.333333     4.0   2.0       2.0      R8744945       1  \n",
      "1           30.0  1.333333     4.0   2.0       2.0      R8744945       1  \n",
      "2           30.0  1.333333     4.0   2.0       2.0      R8744945       1  \n",
      "3           30.0  1.333333     4.0   2.0       2.0      R8744945       1  \n",
      "4           30.0  1.333333     4.0   2.0       2.0      R8744945       1  \n",
      "\n",
      "[5 rows x 25 columns]\n"
     ]
    }
   ],
   "source": [
    "#Sample_key.to_csv('Sample_key1.csv', index=False, sep='')\n",
    "Sample_key = pd.read_csv('/home/adm808/Sample_key.csv', delim_whitespace=True)\n",
    "print(Sample_key.head())\n",
    "merged_patient_metadata = pd.read_csv('/home/adm808/new_initial_merged_file.csv')\n",
    "final_patient_metadata = pd.merge(merged_patient_metadata, Sample_key, on='projid', how='left')\n",
    "final_patient_metadata.to_csv('/home/adm808/new_final_patient_metadata.csv', sep=',', index=False)\n",
    "print(final_patient_metadata.head())\n"
   ]
  },
  {
   "cell_type": "code",
   "execution_count": 12,
   "id": "ed3c524f-a197-4185-8c9d-83bd4918c07a",
   "metadata": {},
   "outputs": [
    {
     "name": "stdout",
     "output_type": "stream",
     "text": [
      "                       TAG    projid      tsne1      tsne2  pre.cluster  \\\n",
      "0       AAACGGGAGATCCCGC.1  11409232  18.076541  43.899396           15   \n",
      "1       AAATGCCTCCAATGGT.1  11409232   8.130535  20.687424            3   \n",
      "2       AACCATGTCAGTGCAT.1  11409232  17.088242  47.272289           15   \n",
      "3       AACCATGTCTGTACGA.1  11409232  15.482062  23.718378            3   \n",
      "4       AACCGCGTCCGCATAA.1  11409232  28.993102  16.223905            2   \n",
      "...                    ...       ...        ...        ...          ...   \n",
      "70629  AGGCCGTAGAGCAATT.48  11302830   7.781814  53.717491           19   \n",
      "70630  AGTGAGGGTGCAACGA.48  11302830   7.817170  51.257381           19   \n",
      "70631  CACACTCTCTCTGAGA.48  11302830   7.223611  50.844179           19   \n",
      "70632  TAGTGGTAGAATGTTG.48  11302830   8.522822  55.293317           19   \n",
      "70633  TGCCCATAGTAGGTGC.48  11302830   7.785946  50.771482           19   \n",
      "\n",
      "      broad.cell.type Subcluster  msex  apoe_genotype     age_first_ad_dx  \\\n",
      "0                  Ex        Ex8   1.0           33.0                 NaN   \n",
      "1                  Ex        Ex0   1.0           33.0                 NaN   \n",
      "2                  Ex        Ex8   1.0           33.0                 NaN   \n",
      "3                  Ex        Ex0   1.0           33.0                 NaN   \n",
      "4                  Ex        Ex0   1.0           33.0                 NaN   \n",
      "...               ...        ...   ...            ...                 ...   \n",
      "70629             Per        Per   1.0           34.0  84.522929500342229   \n",
      "70630             Per        Per   1.0           34.0  84.522929500342229   \n",
      "70631             Per        Per   1.0           34.0  84.522929500342229   \n",
      "70632             End       End1   1.0           34.0  84.522929500342229   \n",
      "70633             Per        Per   1.0           34.0  84.522929500342229   \n",
      "\n",
      "       ...    age_at_visit_max           age_death  cts_mmse30_first_ad_dx  \\\n",
      "0      ...  79.920602327173171  80.098562628336751                     NaN   \n",
      "1      ...  79.920602327173171  80.098562628336751                     NaN   \n",
      "2      ...  79.920602327173171  80.098562628336751                     NaN   \n",
      "3      ...  79.920602327173171  80.098562628336751                     NaN   \n",
      "4      ...  79.920602327173171  80.098562628336751                     NaN   \n",
      "...    ...                 ...                 ...                     ...   \n",
      "70629  ...  85.527720739219717  85.828884325804239                    27.0   \n",
      "70630  ...  85.527720739219717  85.828884325804239                    27.0   \n",
      "70631  ...  85.527720739219717  85.828884325804239                    27.0   \n",
      "70632  ...  85.527720739219717  85.828884325804239                    27.0   \n",
      "70633  ...  85.527720739219717  85.828884325804239                    27.0   \n",
      "\n",
      "       cts_mmse30_lv       pmi ceradsc cogdx  dcfdx_lv  individualID  sample  \n",
      "0               30.0  1.333333     4.0   2.0       2.0      R8744945       1  \n",
      "1               30.0  1.333333     4.0   2.0       2.0      R8744945       1  \n",
      "2               30.0  1.333333     4.0   2.0       2.0      R8744945       1  \n",
      "3               30.0  1.333333     4.0   2.0       2.0      R8744945       1  \n",
      "4               30.0  1.333333     4.0   2.0       2.0      R8744945       1  \n",
      "...              ...       ...     ...   ...       ...           ...     ...  \n",
      "70629           27.0  1.500000     2.0   4.0       4.0      R3900996      48  \n",
      "70630           27.0  1.500000     2.0   4.0       4.0      R3900996      48  \n",
      "70631           27.0  1.500000     2.0   4.0       4.0      R3900996      48  \n",
      "70632           27.0  1.500000     2.0   4.0       4.0      R3900996      48  \n",
      "70633           27.0  1.500000     2.0   4.0       4.0      R3900996      48  \n",
      "\n",
      "[70634 rows x 25 columns]\n"
     ]
    }
   ],
   "source": [
    "#Now we have a merged data frame. We need to select only the columns of relevance. \n",
    "#Columns of relevance are TAG, projid, age_first_ad_dx, and broad.cell.type.\n",
    "\n",
    "new_df = pd.DataFrame(final_patient_metadata)\n",
    "\n",
    "# Save the new DataFrame to a file\n",
    "new_df.to_csv('/home/adm808/new_selected_columns_file.txt', index=False, sep=' ')\n",
    "\n",
    "# Verify the new DataFrame\n",
    "print(new_df)"
   ]
  },
  {
   "cell_type": "code",
   "execution_count": 17,
   "id": "049518b5-ed66-4891-893b-7dfbbbfa29ef",
   "metadata": {},
   "outputs": [
    {
     "ename": "KeyError",
     "evalue": "\"None of [Index(['apoe_genotype'], dtype='object')] are in the [columns]\"",
     "output_type": "error",
     "traceback": [
      "\u001b[0;31m---------------------------------------------------------------------------\u001b[0m",
      "\u001b[0;31mKeyError\u001b[0m                                  Traceback (most recent call last)",
      "Cell \u001b[0;32mIn[17], line 1\u001b[0m\n\u001b[0;32m----> 1\u001b[0m apoe_genotype \u001b[38;5;241m=\u001b[39m \u001b[43mpd\u001b[49m\u001b[38;5;241;43m.\u001b[39;49m\u001b[43mget_dummies\u001b[49m\u001b[43m(\u001b[49m\u001b[43mnew_df\u001b[49m\u001b[43m,\u001b[49m\u001b[43m \u001b[49m\u001b[43mcolumns\u001b[49m\u001b[43m \u001b[49m\u001b[38;5;241;43m=\u001b[39;49m\u001b[43m \u001b[49m\u001b[43m[\u001b[49m\u001b[38;5;124;43m\"\u001b[39;49m\u001b[38;5;124;43mapoe_genotype\u001b[39;49m\u001b[38;5;124;43m\"\u001b[39;49m\u001b[43m]\u001b[49m\u001b[43m)\u001b[49m\n",
      "File \u001b[0;32m/n/groups/patel/adithya/scenv/lib/python3.10/site-packages/pandas/core/reshape/encoding.py:169\u001b[0m, in \u001b[0;36mget_dummies\u001b[0;34m(data, prefix, prefix_sep, dummy_na, columns, sparse, drop_first, dtype)\u001b[0m\n\u001b[1;32m    167\u001b[0m     \u001b[38;5;28;01mraise\u001b[39;00m \u001b[38;5;167;01mTypeError\u001b[39;00m(\u001b[38;5;124m\"\u001b[39m\u001b[38;5;124mInput must be a list-like for parameter `columns`\u001b[39m\u001b[38;5;124m\"\u001b[39m)\n\u001b[1;32m    168\u001b[0m \u001b[38;5;28;01melse\u001b[39;00m:\n\u001b[0;32m--> 169\u001b[0m     data_to_encode \u001b[38;5;241m=\u001b[39m \u001b[43mdata\u001b[49m\u001b[43m[\u001b[49m\u001b[43mcolumns\u001b[49m\u001b[43m]\u001b[49m\n\u001b[1;32m    171\u001b[0m \u001b[38;5;66;03m# validate prefixes and separator to avoid silently dropping cols\u001b[39;00m\n\u001b[1;32m    172\u001b[0m \u001b[38;5;28;01mdef\u001b[39;00m \u001b[38;5;21mcheck_len\u001b[39m(item, name: \u001b[38;5;28mstr\u001b[39m):\n",
      "File \u001b[0;32m/n/groups/patel/adithya/scenv/lib/python3.10/site-packages/pandas/core/frame.py:4108\u001b[0m, in \u001b[0;36mDataFrame.__getitem__\u001b[0;34m(self, key)\u001b[0m\n\u001b[1;32m   4106\u001b[0m     \u001b[38;5;28;01mif\u001b[39;00m is_iterator(key):\n\u001b[1;32m   4107\u001b[0m         key \u001b[38;5;241m=\u001b[39m \u001b[38;5;28mlist\u001b[39m(key)\n\u001b[0;32m-> 4108\u001b[0m     indexer \u001b[38;5;241m=\u001b[39m \u001b[38;5;28;43mself\u001b[39;49m\u001b[38;5;241;43m.\u001b[39;49m\u001b[43mcolumns\u001b[49m\u001b[38;5;241;43m.\u001b[39;49m\u001b[43m_get_indexer_strict\u001b[49m\u001b[43m(\u001b[49m\u001b[43mkey\u001b[49m\u001b[43m,\u001b[49m\u001b[43m \u001b[49m\u001b[38;5;124;43m\"\u001b[39;49m\u001b[38;5;124;43mcolumns\u001b[39;49m\u001b[38;5;124;43m\"\u001b[39;49m\u001b[43m)\u001b[49m[\u001b[38;5;241m1\u001b[39m]\n\u001b[1;32m   4110\u001b[0m \u001b[38;5;66;03m# take() does not accept boolean indexers\u001b[39;00m\n\u001b[1;32m   4111\u001b[0m \u001b[38;5;28;01mif\u001b[39;00m \u001b[38;5;28mgetattr\u001b[39m(indexer, \u001b[38;5;124m\"\u001b[39m\u001b[38;5;124mdtype\u001b[39m\u001b[38;5;124m\"\u001b[39m, \u001b[38;5;28;01mNone\u001b[39;00m) \u001b[38;5;241m==\u001b[39m \u001b[38;5;28mbool\u001b[39m:\n",
      "File \u001b[0;32m/n/groups/patel/adithya/scenv/lib/python3.10/site-packages/pandas/core/indexes/base.py:6200\u001b[0m, in \u001b[0;36mIndex._get_indexer_strict\u001b[0;34m(self, key, axis_name)\u001b[0m\n\u001b[1;32m   6197\u001b[0m \u001b[38;5;28;01melse\u001b[39;00m:\n\u001b[1;32m   6198\u001b[0m     keyarr, indexer, new_indexer \u001b[38;5;241m=\u001b[39m \u001b[38;5;28mself\u001b[39m\u001b[38;5;241m.\u001b[39m_reindex_non_unique(keyarr)\n\u001b[0;32m-> 6200\u001b[0m \u001b[38;5;28;43mself\u001b[39;49m\u001b[38;5;241;43m.\u001b[39;49m\u001b[43m_raise_if_missing\u001b[49m\u001b[43m(\u001b[49m\u001b[43mkeyarr\u001b[49m\u001b[43m,\u001b[49m\u001b[43m \u001b[49m\u001b[43mindexer\u001b[49m\u001b[43m,\u001b[49m\u001b[43m \u001b[49m\u001b[43maxis_name\u001b[49m\u001b[43m)\u001b[49m\n\u001b[1;32m   6202\u001b[0m keyarr \u001b[38;5;241m=\u001b[39m \u001b[38;5;28mself\u001b[39m\u001b[38;5;241m.\u001b[39mtake(indexer)\n\u001b[1;32m   6203\u001b[0m \u001b[38;5;28;01mif\u001b[39;00m \u001b[38;5;28misinstance\u001b[39m(key, Index):\n\u001b[1;32m   6204\u001b[0m     \u001b[38;5;66;03m# GH 42790 - Preserve name from an Index\u001b[39;00m\n",
      "File \u001b[0;32m/n/groups/patel/adithya/scenv/lib/python3.10/site-packages/pandas/core/indexes/base.py:6249\u001b[0m, in \u001b[0;36mIndex._raise_if_missing\u001b[0;34m(self, key, indexer, axis_name)\u001b[0m\n\u001b[1;32m   6247\u001b[0m \u001b[38;5;28;01mif\u001b[39;00m nmissing:\n\u001b[1;32m   6248\u001b[0m     \u001b[38;5;28;01mif\u001b[39;00m nmissing \u001b[38;5;241m==\u001b[39m \u001b[38;5;28mlen\u001b[39m(indexer):\n\u001b[0;32m-> 6249\u001b[0m         \u001b[38;5;28;01mraise\u001b[39;00m \u001b[38;5;167;01mKeyError\u001b[39;00m(\u001b[38;5;124mf\u001b[39m\u001b[38;5;124m\"\u001b[39m\u001b[38;5;124mNone of [\u001b[39m\u001b[38;5;132;01m{\u001b[39;00mkey\u001b[38;5;132;01m}\u001b[39;00m\u001b[38;5;124m] are in the [\u001b[39m\u001b[38;5;132;01m{\u001b[39;00maxis_name\u001b[38;5;132;01m}\u001b[39;00m\u001b[38;5;124m]\u001b[39m\u001b[38;5;124m\"\u001b[39m)\n\u001b[1;32m   6251\u001b[0m     not_found \u001b[38;5;241m=\u001b[39m \u001b[38;5;28mlist\u001b[39m(ensure_index(key)[missing_mask\u001b[38;5;241m.\u001b[39mnonzero()[\u001b[38;5;241m0\u001b[39m]]\u001b[38;5;241m.\u001b[39munique())\n\u001b[1;32m   6252\u001b[0m     \u001b[38;5;28;01mraise\u001b[39;00m \u001b[38;5;167;01mKeyError\u001b[39;00m(\u001b[38;5;124mf\u001b[39m\u001b[38;5;124m\"\u001b[39m\u001b[38;5;132;01m{\u001b[39;00mnot_found\u001b[38;5;132;01m}\u001b[39;00m\u001b[38;5;124m not in index\u001b[39m\u001b[38;5;124m\"\u001b[39m)\n",
      "\u001b[0;31mKeyError\u001b[0m: \"None of [Index(['apoe_genotype'], dtype='object')] are in the [columns]\""
     ]
    }
   ],
   "source": [
    "#apoe_genotype = pd.get_dummies(new_df, columns = [\"apoe_genotype\"])"
   ]
  },
  {
   "cell_type": "code",
   "execution_count": 13,
   "id": "0d509127-a4e2-4cd8-811f-8976e4ec867c",
   "metadata": {},
   "outputs": [],
   "source": [
    "new_df.to_csv('/home/adm808/CellMetadataSyn18485175.csv')"
   ]
  },
  {
   "cell_type": "code",
   "execution_count": 14,
   "id": "cd3ea9cb-e1a9-4f9a-b2b3-75788d40859d",
   "metadata": {},
   "outputs": [
    {
     "name": "stdout",
     "output_type": "stream",
     "text": [
      "       Unnamed: 0                  TAG    projid      tsne1      tsne2  \\\n",
      "0               0   AAACGGGAGATCCCGC.1  11409232  18.076541  43.899396   \n",
      "1               1   AAATGCCTCCAATGGT.1  11409232   8.130535  20.687424   \n",
      "2               2   AACCATGTCAGTGCAT.1  11409232  17.088242  47.272289   \n",
      "3               3   AACCATGTCTGTACGA.1  11409232  15.482062  23.718378   \n",
      "4               4   AACCGCGTCCGCATAA.1  11409232  28.993102  16.223905   \n",
      "...           ...                  ...       ...        ...        ...   \n",
      "70629       70629  AGGCCGTAGAGCAATT.48  11302830   7.781814  53.717491   \n",
      "70630       70630  AGTGAGGGTGCAACGA.48  11302830   7.817170  51.257381   \n",
      "70631       70631  CACACTCTCTCTGAGA.48  11302830   7.223611  50.844179   \n",
      "70632       70632  TAGTGGTAGAATGTTG.48  11302830   8.522822  55.293317   \n",
      "70633       70633  TGCCCATAGTAGGTGC.48  11302830   7.785946  50.771482   \n",
      "\n",
      "       pre.cluster broad.cell.type Subcluster  msex  apoe_genotype  ...  \\\n",
      "0               15              Ex        Ex8   1.0           33.0  ...   \n",
      "1                3              Ex        Ex0   1.0           33.0  ...   \n",
      "2               15              Ex        Ex8   1.0           33.0  ...   \n",
      "3                3              Ex        Ex0   1.0           33.0  ...   \n",
      "4                2              Ex        Ex0   1.0           33.0  ...   \n",
      "...            ...             ...        ...   ...            ...  ...   \n",
      "70629           19             Per        Per   1.0           34.0  ...   \n",
      "70630           19             Per        Per   1.0           34.0  ...   \n",
      "70631           19             Per        Per   1.0           34.0  ...   \n",
      "70632           19             End       End1   1.0           34.0  ...   \n",
      "70633           19             Per        Per   1.0           34.0  ...   \n",
      "\n",
      "         age_at_visit_max           age_death cts_mmse30_first_ad_dx  \\\n",
      "0      79.920602327173171  80.098562628336751                    NaN   \n",
      "1      79.920602327173171  80.098562628336751                    NaN   \n",
      "2      79.920602327173171  80.098562628336751                    NaN   \n",
      "3      79.920602327173171  80.098562628336751                    NaN   \n",
      "4      79.920602327173171  80.098562628336751                    NaN   \n",
      "...                   ...                 ...                    ...   \n",
      "70629  85.527720739219717  85.828884325804239                   27.0   \n",
      "70630  85.527720739219717  85.828884325804239                   27.0   \n",
      "70631  85.527720739219717  85.828884325804239                   27.0   \n",
      "70632  85.527720739219717  85.828884325804239                   27.0   \n",
      "70633  85.527720739219717  85.828884325804239                   27.0   \n",
      "\n",
      "       cts_mmse30_lv       pmi  ceradsc cogdx dcfdx_lv  individualID  sample  \n",
      "0               30.0  1.333333      4.0   2.0      2.0      R8744945       1  \n",
      "1               30.0  1.333333      4.0   2.0      2.0      R8744945       1  \n",
      "2               30.0  1.333333      4.0   2.0      2.0      R8744945       1  \n",
      "3               30.0  1.333333      4.0   2.0      2.0      R8744945       1  \n",
      "4               30.0  1.333333      4.0   2.0      2.0      R8744945       1  \n",
      "...              ...       ...      ...   ...      ...           ...     ...  \n",
      "70629           27.0  1.500000      2.0   4.0      4.0      R3900996      48  \n",
      "70630           27.0  1.500000      2.0   4.0      4.0      R3900996      48  \n",
      "70631           27.0  1.500000      2.0   4.0      4.0      R3900996      48  \n",
      "70632           27.0  1.500000      2.0   4.0      4.0      R3900996      48  \n",
      "70633           27.0  1.500000      2.0   4.0      4.0      R3900996      48  \n",
      "\n",
      "[70634 rows x 26 columns]\n"
     ]
    }
   ],
   "source": [
    "CellMetadataSyn18 = pd.read_csv('/home/adm808/CellMetadataSyn18485175.csv')\n",
    "print(CellMetadataSyn18)"
   ]
  },
  {
   "cell_type": "code",
   "execution_count": 16,
   "id": "05ed1825-3d70-46c3-8279-bd5a141f7df7",
   "metadata": {},
   "outputs": [],
   "source": [
    "apoe_Genotype = CellMetadataSyn18['apoe_genotype'].unique()"
   ]
  },
  {
   "cell_type": "code",
   "execution_count": 17,
   "id": "d8d22aa8-1dca-4461-a7e0-111060c4d176",
   "metadata": {},
   "outputs": [
    {
     "data": {
      "text/plain": [
       "array([33., 34., 44., 23., nan])"
      ]
     },
     "execution_count": 17,
     "metadata": {},
     "output_type": "execute_result"
    }
   ],
   "source": [
    "apoe_Genotype"
   ]
  },
  {
   "cell_type": "code",
   "execution_count": null,
   "id": "9689eb61-3ec5-4d1f-a92d-2e7e359b6b2c",
   "metadata": {},
   "outputs": [],
   "source": []
  }
 ],
 "metadata": {
  "kernelspec": {
   "display_name": "Python 3 (ipykernel)",
   "language": "python",
   "name": "python3"
  },
  "language_info": {
   "codemirror_mode": {
    "name": "ipython",
    "version": 3
   },
   "file_extension": ".py",
   "mimetype": "text/x-python",
   "name": "python",
   "nbconvert_exporter": "python",
   "pygments_lexer": "ipython3",
   "version": "3.10.11"
  }
 },
 "nbformat": 4,
 "nbformat_minor": 5
}
