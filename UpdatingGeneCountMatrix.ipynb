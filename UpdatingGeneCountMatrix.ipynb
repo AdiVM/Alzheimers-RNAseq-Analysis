{
 "cells": [
  {
   "cell_type": "code",
   "execution_count": 2,
   "id": "f721b921-3fb9-4c46-8dfd-211dd0dfc0f7",
   "metadata": {},
   "outputs": [
    {
     "name": "stdout",
     "output_type": "stream",
     "text": [
      "  FO538757.2\n",
      "0     SAMD11\n",
      "1      NOC2L\n",
      "2     KLHL17\n",
      "3    PLEKHN1\n",
      "4      PERM1\n"
     ]
    }
   ],
   "source": [
    "import os\n",
    "import pandas as pd\n",
    "gene_names = pd.read_csv('/n/groups/patel/randy/single_cell/syn18485175/data/filtered_gene_row_names.txt')\n",
    "\n",
    "# Display the first few rows of the DataFrame\n",
    "\n",
    "print(gene_names.head())"
   ]
  },
  {
   "cell_type": "code",
   "execution_count": 3,
   "id": "71aa6b12-3b97-49fb-a2dc-58fc070f0c9b",
   "metadata": {},
   "outputs": [],
   "source": [
    "from scipy.io import mminfo,mmread"
   ]
  },
  {
   "cell_type": "code",
   "execution_count": 4,
   "id": "5bab6a99-3a80-4791-9459-53fcc31c2b1f",
   "metadata": {},
   "outputs": [],
   "source": [
    "filteredcountmatrix = mmread('/n/groups/patel/randy/single_cell/syn18485175/data/filtered_count_matrix.mtx')\n"
   ]
  },
  {
   "cell_type": "code",
   "execution_count": 5,
   "id": "3371db26-5155-47ed-b7c9-73b9164950dc",
   "metadata": {
    "scrolled": true
   },
   "outputs": [
    {
     "name": "stdout",
     "output_type": "stream",
     "text": [
      "   0      1      2      3      4      5      6      7      8      9      ...  \\\n",
      "0      0      1      1      0      1      0      0      0      0      0  ...   \n",
      "1      0      0      0      0      0      0      0      0      0      0  ...   \n",
      "2      0      0      0      1      0      0      0      0      2      0  ...   \n",
      "3      0      0      0      0      0      0      0      0      0      0  ...   \n",
      "4      0      0      0      0      0      0      0      0      0      0  ...   \n",
      "\n",
      "   70624  70625  70626  70627  70628  70629  70630  70631  70632  70633  \n",
      "0      0      0      0      0      1      0      0      0      0      0  \n",
      "1      0      0      0      0      0      0      0      0      0      0  \n",
      "2      0      0      0      0      0      0      0      0      0      0  \n",
      "3      1      0      0      0      0      0      0      0      0      0  \n",
      "4      0      0      0      0      0      0      0      0      0      0  \n",
      "\n",
      "[5 rows x 70634 columns]\n"
     ]
    }
   ],
   "source": [
    "Matrix = (mmread('/n/groups/patel/randy/single_cell/syn18485175/data/filtered_count_matrix.mtx'))\n",
    "B = Matrix.todense()\n",
    "cell_countmatrix = pd.DataFrame(B)\n",
    "print(cell_countmatrix.head())"
   ]
  },
  {
   "cell_type": "code",
   "execution_count": 6,
   "id": "71235e6a-44d4-4d3f-a1eb-436e964f1b01",
   "metadata": {},
   "outputs": [
    {
     "name": "stdout",
     "output_type": "stream",
     "text": [
      "17926\n",
      "17925\n"
     ]
    }
   ],
   "source": [
    "print(len(cell_countmatrix))\n",
    "print(len(gene_names))"
   ]
  },
  {
   "cell_type": "code",
   "execution_count": 7,
   "id": "a74fbbe3-32bb-4993-98d8-bea3ab0c2bc6",
   "metadata": {},
   "outputs": [
    {
     "name": "stdout",
     "output_type": "stream",
     "text": [
      "            0      1      2      3      4      5      6      7      8      \\\n",
      "FO538757.2      0      1      1      0      1      0      0      0      0   \n",
      "SAMD11          0      0      0      0      0      0      0      0      0   \n",
      "NOC2L           0      0      0      1      0      0      0      0      2   \n",
      "KLHL17          0      0      0      0      0      0      0      0      0   \n",
      "PLEKHN1         0      0      0      0      0      0      0      0      0   \n",
      "\n",
      "            9      ...  70624  70625  70626  70627  70628  70629  70630  \\\n",
      "FO538757.2      0  ...      0      0      0      0      1      0      0   \n",
      "SAMD11          0  ...      0      0      0      0      0      0      0   \n",
      "NOC2L           0  ...      0      0      0      0      0      0      0   \n",
      "KLHL17          0  ...      1      0      0      0      0      0      0   \n",
      "PLEKHN1         0  ...      0      0      0      0      0      0      0   \n",
      "\n",
      "            70631  70632  70633  \n",
      "FO538757.2      0      0      0  \n",
      "SAMD11          0      0      0  \n",
      "NOC2L           0      0      0  \n",
      "KLHL17          0      0      0  \n",
      "PLEKHN1         0      0      0  \n",
      "\n",
      "[5 rows x 70634 columns]\n",
      "17926\n"
     ]
    }
   ],
   "source": [
    "with open('/n/groups/patel/randy/single_cell/syn18485175/data/filtered_gene_row_names.txt', 'r') as f:\n",
    "    gene_names = f.read().splitlines()\n",
    "\n",
    "assert len(gene_names) == len(cell_countmatrix), \"The number of gene names must match the number of rows in the matrix\"\n",
    "\n",
    "cell_countmatrix.index = gene_names\n",
    "\n",
    "print(cell_countmatrix.head())\n",
    "print(len(cell_countmatrix))"
   ]
  },
  {
   "cell_type": "code",
   "execution_count": 8,
   "id": "e9ba3839-cdcb-4bf3-bebe-0b2a5f27e60a",
   "metadata": {},
   "outputs": [
    {
     "name": "stdout",
     "output_type": "stream",
     "text": [
      "   Unnamed: 0    projid                 TAG age_first_ad_dx  msex  \\\n",
      "0           0  11409232  AAACGGGAGATCCCGC.1             NaN   1.0   \n",
      "1           1  11409232  AAATGCCTCCAATGGT.1             NaN   1.0   \n",
      "2           2  11409232  AACCATGTCAGTGCAT.1             NaN   1.0   \n",
      "3           3  11409232  AACCATGTCTGTACGA.1             NaN   1.0   \n",
      "4           4  11409232  AACCGCGTCCGCATAA.1             NaN   1.0   \n",
      "\n",
      "   apoe_genotype  sample broad.cell.type  \n",
      "0           33.0       1              Ex  \n",
      "1           33.0       1              Ex  \n",
      "2           33.0       1              Ex  \n",
      "3           33.0       1              Ex  \n",
      "4           33.0       1              Ex  \n"
     ]
    }
   ],
   "source": [
    "CellMetadataSyn18 = pd.read_csv('/home/adm808/CellMetadataSyn18485175.csv')\n",
    "print(CellMetadataSyn18.head())"
   ]
  },
  {
   "cell_type": "code",
   "execution_count": 9,
   "id": "ce3f1838-0506-4207-8a17-6d6827d7f9d7",
   "metadata": {},
   "outputs": [
    {
     "name": "stdout",
     "output_type": "stream",
     "text": [
      "            AAACGGGAGATCCCGC.1  AAATGCCTCCAATGGT.1  AACCATGTCAGTGCAT.1  \\\n",
      "FO538757.2                   0                   1                   1   \n",
      "SAMD11                       0                   0                   0   \n",
      "NOC2L                        0                   0                   0   \n",
      "KLHL17                       0                   0                   0   \n",
      "PLEKHN1                      0                   0                   0   \n",
      "\n",
      "            AACCATGTCTGTACGA.1  AACCGCGTCCGCATAA.1  AACGTTGGTTCAGGCC.1  \\\n",
      "FO538757.2                   0                   1                   0   \n",
      "SAMD11                       0                   0                   0   \n",
      "NOC2L                        1                   0                   0   \n",
      "KLHL17                       0                   0                   0   \n",
      "PLEKHN1                      0                   0                   0   \n",
      "\n",
      "            AACTGGTGTACCGGCT.1  AAGACCTAGTTAACGA.1  AAGGAGCAGCAATCTC.1  \\\n",
      "FO538757.2                   0                   0                   0   \n",
      "SAMD11                       0                   0                   0   \n",
      "NOC2L                        0                   0                   2   \n",
      "KLHL17                       0                   0                   0   \n",
      "PLEKHN1                      0                   0                   0   \n",
      "\n",
      "            AAGGAGCTCTGCTGCT.1  ...  GCCTCTACACTTAACG.44  TCATTTGTCCGTAGGC.44  \\\n",
      "FO538757.2                   0  ...                    0                    0   \n",
      "SAMD11                       0  ...                    0                    0   \n",
      "NOC2L                        0  ...                    0                    0   \n",
      "KLHL17                       0  ...                    1                    0   \n",
      "PLEKHN1                      0  ...                    0                    0   \n",
      "\n",
      "            GATGAAACAGCGTAAG.45  GTGCGGTCAATCGGTT.46  ACTTGTTAGGAATTAC.48  \\\n",
      "FO538757.2                    0                    0                    1   \n",
      "SAMD11                        0                    0                    0   \n",
      "NOC2L                         0                    0                    0   \n",
      "KLHL17                        0                    0                    0   \n",
      "PLEKHN1                       0                    0                    0   \n",
      "\n",
      "            AGGCCGTAGAGCAATT.48  AGTGAGGGTGCAACGA.48  CACACTCTCTCTGAGA.48  \\\n",
      "FO538757.2                    0                    0                    0   \n",
      "SAMD11                        0                    0                    0   \n",
      "NOC2L                         0                    0                    0   \n",
      "KLHL17                        0                    0                    0   \n",
      "PLEKHN1                       0                    0                    0   \n",
      "\n",
      "            TAGTGGTAGAATGTTG.48  TGCCCATAGTAGGTGC.48  \n",
      "FO538757.2                    0                    0  \n",
      "SAMD11                        0                    0  \n",
      "NOC2L                         0                    0  \n",
      "KLHL17                        0                    0  \n",
      "PLEKHN1                       0                    0  \n",
      "\n",
      "[5 rows x 70634 columns]\n",
      "17926\n"
     ]
    },
    {
     "name": "stderr",
     "output_type": "stream",
     "text": [
      "/tmp/ipykernel_26158/721496312.py:4: FutureWarning: The 'delim_whitespace' keyword in pd.read_csv is deprecated and will be removed in a future version. Use ``sep='\\s+'`` instead\n",
      "  cell_tags = pd.read_csv('/n/groups/patel/randy/single_cell/syn18485175/data/filtered_column_metadata.txt', delim_whitespace=True)\n"
     ]
    }
   ],
   "source": [
    "import pandas as pd\n",
    "\n",
    "# Step 1: Load the cell tags file\n",
    "cell_tags = pd.read_csv('/n/groups/patel/randy/single_cell/syn18485175/data/filtered_column_metadata.txt', delim_whitespace=True)\n",
    "\n",
    "# Assuming the relevant column in the cell tags file is named 'cell_tag'\n",
    "# If the column has a different name, replace 'cell_tag' with the actual column name\n",
    "cell_tags_list = cell_tags['TAG'].tolist()\n",
    "\n",
    "cell_countmatrix.columns = cell_tags_list\n",
    "\n",
    "print(cell_countmatrix.head())\n",
    "print(len(cell_countmatrix))"
   ]
  },
  {
   "cell_type": "code",
   "execution_count": 10,
   "id": "07b4777a-1350-48fe-9859-dc6232710f0a",
   "metadata": {},
   "outputs": [],
   "source": [
    "#cell_countmatrix.to_csv('/home/adm808/CellMatrixSyn18485175.csv', index=False)"
   ]
  },
  {
   "cell_type": "code",
   "execution_count": 11,
   "id": "4d718d80-dc78-4c0b-9e03-644fb8ee7570",
   "metadata": {},
   "outputs": [],
   "source": [
    "import pyarrow.parquet as pq\n",
    "cell_countmatrix.to_parquet('/home/adm808/CellMatrixSyn18485175.parquet')"
   ]
  },
  {
   "cell_type": "code",
   "execution_count": 12,
   "id": "61e9c927-07af-4aee-979f-b80aca5f7ea1",
   "metadata": {},
   "outputs": [],
   "source": [
    "#print(CellMatrixSyn18485175.head())"
   ]
  },
  {
   "cell_type": "code",
   "execution_count": null,
   "id": "9d4b9cd7-b89f-484c-a8cf-b2f5b90f7625",
   "metadata": {},
   "outputs": [],
   "source": []
  },
  {
   "cell_type": "code",
   "execution_count": null,
   "id": "de92d0a1-466d-4d3f-94fc-5cb44adb9354",
   "metadata": {},
   "outputs": [],
   "source": []
  }
 ],
 "metadata": {
  "kernelspec": {
   "display_name": "Python 3 (ipykernel)",
   "language": "python",
   "name": "python3"
  },
  "language_info": {
   "codemirror_mode": {
    "name": "ipython",
    "version": 3
   },
   "file_extension": ".py",
   "mimetype": "text/x-python",
   "name": "python",
   "nbconvert_exporter": "python",
   "pygments_lexer": "ipython3",
   "version": "3.10.11"
  }
 },
 "nbformat": 4,
 "nbformat_minor": 5
}
