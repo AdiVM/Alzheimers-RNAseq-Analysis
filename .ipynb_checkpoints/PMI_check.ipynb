{
 "cells": [
  {
   "cell_type": "code",
   "execution_count": 1,
   "metadata": {},
   "outputs": [
    {
     "name": "stderr",
     "output_type": "stream",
     "text": [
      "/n/groups/patel/adithya/scenv/lib/python3.10/site-packages/xgboost/core.py:265: FutureWarning: Your system has an old version of glibc (< 2.28). We will stop supporting Linux distros with glibc older than 2.28 after **May 31, 2025**. Please upgrade to a recent Linux distro (with glibc 2.28+) to use future versions of XGBoost.\n",
      "Note: You have installed the 'manylinux2014' variant of XGBoost. Certain features such as GPU algorithms or federated learning are not available. To use these features, please upgrade to a recent Linux distro with glibc 2.28+, and install the 'manylinux_2_28' variant.\n",
      "  warnings.warn(\n"
     ]
    }
   ],
   "source": [
    "import os\n",
    "import pandas as pd\n",
    "import numpy as np\n",
    "from sklearn.metrics import (\n",
    "    accuracy_score, roc_auc_score, average_precision_score, recall_score,\n",
    "    precision_score, f1_score, matthews_corrcoef\n",
    ")\n",
    "from flaml import AutoML\n",
    "import matplotlib.pyplot as plt\n",
    "import joblib\n",
    "from sklearn.model_selection import StratifiedShuffleSplit\n",
    "from sklearn.model_selection import train_test_split\n",
    "from sklearn.model_selection import StratifiedGroupKFold"
   ]
  },
  {
   "cell_type": "code",
   "execution_count": 2,
   "metadata": {},
   "outputs": [
    {
     "name": "stdout",
     "output_type": "stream",
     "text": [
      "Metadata is loaded\n",
      "Number of cases in training: 21958\n",
      "Number of cases in test: 131\n"
     ]
    }
   ],
   "source": [
    "exp_type = 'maximal'\n",
    "cell_type = 'Mic'\n",
    "\n",
    "# Load the data\n",
    "metadata = pd.read_parquet('/home/adm808/New_CellMetadataSyn1848517.parquet')\n",
    "print(\"Metadata is loaded\")\n",
    "\n",
    "# Process APOE genotype as categorical -- Hot encoding of apoe_genotype\n",
    "metadata = pd.get_dummies(metadata, columns=[\"apoe_genotype\"])\n",
    "apoe_genotype_columns = [col for col in metadata.columns if col.startswith(\"apoe_genotype_\")]\n",
    "\n",
    "\n",
    "# Stratified Shuffle Split based on `sample_id`to split metadata\n",
    "# Define Alzheimer's or control status directly based on `age_first_ad_dx`\n",
    "metadata = metadata.copy()\n",
    "metadata['alzheimers_or_control'] = metadata['age_first_ad_dx'].notnull().astype(int)\n",
    "\n",
    "# Extract unique sample IDs and their associated Alzheimer's/control status -- drop duplicates\n",
    "sample_summary = metadata[['sample', 'alzheimers_or_control', 'msex']].drop_duplicates()\n",
    "\n",
    "# I need to create a combined stratification variable\n",
    "sample_summary['stratify_group'] = sample_summary['alzheimers_or_control'].astype(str) + \"_\" + sample_summary['msex'].astype(str)\n",
    "\n",
    "# Perform stratified train-test split on `sample_id`, stratified by `alzheimers_or_control`\n",
    "train_samples, test_samples = train_test_split(\n",
    "    sample_summary['sample'],\n",
    "    test_size=0.2,\n",
    "    random_state=42,\n",
    "    stratify=sample_summary['stratify_group']\n",
    ")\n",
    "\n",
    "# Filter metadata by train and test `sample_id`\n",
    "train_metadata = metadata[metadata['sample'].isin(train_samples)]\n",
    "test_metadata = metadata[metadata['sample'].isin(test_samples)]\n",
    "\n",
    "\n",
    "# We only want to predict on one cell type but train the model on all cell types so we filter test_metadata\n",
    "test_metadata = test_metadata[test_metadata['broad.cell.type'] == cell_type]\n",
    "\n",
    "\n",
    "print(f\"Number of cases in training: {sum(train_metadata['alzheimers_or_control'])}\")\n",
    "print(f\"Number of cases in test: {sum(test_metadata['alzheimers_or_control'])}\")\n",
    "\n"
   ]
  },
  {
   "cell_type": "code",
   "execution_count": 4,
   "metadata": {},
   "outputs": [
    {
     "data": {
      "text/html": [
       "<div>\n",
       "<style scoped>\n",
       "    .dataframe tbody tr th:only-of-type {\n",
       "        vertical-align: middle;\n",
       "    }\n",
       "\n",
       "    .dataframe tbody tr th {\n",
       "        vertical-align: top;\n",
       "    }\n",
       "\n",
       "    .dataframe thead th {\n",
       "        text-align: right;\n",
       "    }\n",
       "</style>\n",
       "<table border=\"1\" class=\"dataframe\">\n",
       "  <thead>\n",
       "    <tr style=\"text-align: right;\">\n",
       "      <th></th>\n",
       "      <th>TAG</th>\n",
       "      <th>projid</th>\n",
       "      <th>tsne1</th>\n",
       "      <th>tsne2</th>\n",
       "      <th>pre.cluster</th>\n",
       "      <th>broad.cell.type</th>\n",
       "      <th>Subcluster</th>\n",
       "      <th>msex</th>\n",
       "      <th>age_first_ad_dx</th>\n",
       "      <th>braaksc</th>\n",
       "      <th>...</th>\n",
       "      <th>ceradsc</th>\n",
       "      <th>cogdx</th>\n",
       "      <th>dcfdx_lv</th>\n",
       "      <th>individualID</th>\n",
       "      <th>sample</th>\n",
       "      <th>apoe_genotype_23.0</th>\n",
       "      <th>apoe_genotype_33.0</th>\n",
       "      <th>apoe_genotype_34.0</th>\n",
       "      <th>apoe_genotype_44.0</th>\n",
       "      <th>alzheimers_or_control</th>\n",
       "    </tr>\n",
       "  </thead>\n",
       "  <tbody>\n",
       "    <tr>\n",
       "      <th>0</th>\n",
       "      <td>AAACGGGAGATCCCGC.1</td>\n",
       "      <td>11409232</td>\n",
       "      <td>18.076541</td>\n",
       "      <td>43.899396</td>\n",
       "      <td>15</td>\n",
       "      <td>Ex</td>\n",
       "      <td>Ex8</td>\n",
       "      <td>1.0</td>\n",
       "      <td>None</td>\n",
       "      <td>3.0</td>\n",
       "      <td>...</td>\n",
       "      <td>4.0</td>\n",
       "      <td>2.0</td>\n",
       "      <td>2.0</td>\n",
       "      <td>R8744945</td>\n",
       "      <td>1</td>\n",
       "      <td>False</td>\n",
       "      <td>True</td>\n",
       "      <td>False</td>\n",
       "      <td>False</td>\n",
       "      <td>0</td>\n",
       "    </tr>\n",
       "    <tr>\n",
       "      <th>1</th>\n",
       "      <td>AAATGCCTCCAATGGT.1</td>\n",
       "      <td>11409232</td>\n",
       "      <td>8.130535</td>\n",
       "      <td>20.687424</td>\n",
       "      <td>3</td>\n",
       "      <td>Ex</td>\n",
       "      <td>Ex0</td>\n",
       "      <td>1.0</td>\n",
       "      <td>None</td>\n",
       "      <td>3.0</td>\n",
       "      <td>...</td>\n",
       "      <td>4.0</td>\n",
       "      <td>2.0</td>\n",
       "      <td>2.0</td>\n",
       "      <td>R8744945</td>\n",
       "      <td>1</td>\n",
       "      <td>False</td>\n",
       "      <td>True</td>\n",
       "      <td>False</td>\n",
       "      <td>False</td>\n",
       "      <td>0</td>\n",
       "    </tr>\n",
       "    <tr>\n",
       "      <th>2</th>\n",
       "      <td>AACCATGTCAGTGCAT.1</td>\n",
       "      <td>11409232</td>\n",
       "      <td>17.088242</td>\n",
       "      <td>47.272289</td>\n",
       "      <td>15</td>\n",
       "      <td>Ex</td>\n",
       "      <td>Ex8</td>\n",
       "      <td>1.0</td>\n",
       "      <td>None</td>\n",
       "      <td>3.0</td>\n",
       "      <td>...</td>\n",
       "      <td>4.0</td>\n",
       "      <td>2.0</td>\n",
       "      <td>2.0</td>\n",
       "      <td>R8744945</td>\n",
       "      <td>1</td>\n",
       "      <td>False</td>\n",
       "      <td>True</td>\n",
       "      <td>False</td>\n",
       "      <td>False</td>\n",
       "      <td>0</td>\n",
       "    </tr>\n",
       "    <tr>\n",
       "      <th>3</th>\n",
       "      <td>AACCATGTCTGTACGA.1</td>\n",
       "      <td>11409232</td>\n",
       "      <td>15.482062</td>\n",
       "      <td>23.718378</td>\n",
       "      <td>3</td>\n",
       "      <td>Ex</td>\n",
       "      <td>Ex0</td>\n",
       "      <td>1.0</td>\n",
       "      <td>None</td>\n",
       "      <td>3.0</td>\n",
       "      <td>...</td>\n",
       "      <td>4.0</td>\n",
       "      <td>2.0</td>\n",
       "      <td>2.0</td>\n",
       "      <td>R8744945</td>\n",
       "      <td>1</td>\n",
       "      <td>False</td>\n",
       "      <td>True</td>\n",
       "      <td>False</td>\n",
       "      <td>False</td>\n",
       "      <td>0</td>\n",
       "    </tr>\n",
       "    <tr>\n",
       "      <th>4</th>\n",
       "      <td>AACCGCGTCCGCATAA.1</td>\n",
       "      <td>11409232</td>\n",
       "      <td>28.993102</td>\n",
       "      <td>16.223905</td>\n",
       "      <td>2</td>\n",
       "      <td>Ex</td>\n",
       "      <td>Ex0</td>\n",
       "      <td>1.0</td>\n",
       "      <td>None</td>\n",
       "      <td>3.0</td>\n",
       "      <td>...</td>\n",
       "      <td>4.0</td>\n",
       "      <td>2.0</td>\n",
       "      <td>2.0</td>\n",
       "      <td>R8744945</td>\n",
       "      <td>1</td>\n",
       "      <td>False</td>\n",
       "      <td>True</td>\n",
       "      <td>False</td>\n",
       "      <td>False</td>\n",
       "      <td>0</td>\n",
       "    </tr>\n",
       "  </tbody>\n",
       "</table>\n",
       "<p>5 rows × 29 columns</p>\n",
       "</div>"
      ],
      "text/plain": [
       "                  TAG    projid      tsne1      tsne2  pre.cluster  \\\n",
       "0  AAACGGGAGATCCCGC.1  11409232  18.076541  43.899396           15   \n",
       "1  AAATGCCTCCAATGGT.1  11409232   8.130535  20.687424            3   \n",
       "2  AACCATGTCAGTGCAT.1  11409232  17.088242  47.272289           15   \n",
       "3  AACCATGTCTGTACGA.1  11409232  15.482062  23.718378            3   \n",
       "4  AACCGCGTCCGCATAA.1  11409232  28.993102  16.223905            2   \n",
       "\n",
       "  broad.cell.type Subcluster  msex age_first_ad_dx  braaksc  ... ceradsc  \\\n",
       "0              Ex        Ex8   1.0            None      3.0  ...     4.0   \n",
       "1              Ex        Ex0   1.0            None      3.0  ...     4.0   \n",
       "2              Ex        Ex8   1.0            None      3.0  ...     4.0   \n",
       "3              Ex        Ex0   1.0            None      3.0  ...     4.0   \n",
       "4              Ex        Ex0   1.0            None      3.0  ...     4.0   \n",
       "\n",
       "   cogdx  dcfdx_lv  individualID sample apoe_genotype_23.0  \\\n",
       "0    2.0       2.0      R8744945      1              False   \n",
       "1    2.0       2.0      R8744945      1              False   \n",
       "2    2.0       2.0      R8744945      1              False   \n",
       "3    2.0       2.0      R8744945      1              False   \n",
       "4    2.0       2.0      R8744945      1              False   \n",
       "\n",
       "   apoe_genotype_33.0  apoe_genotype_34.0  apoe_genotype_44.0  \\\n",
       "0                True               False               False   \n",
       "1                True               False               False   \n",
       "2                True               False               False   \n",
       "3                True               False               False   \n",
       "4                True               False               False   \n",
       "\n",
       "   alzheimers_or_control  \n",
       "0                      0  \n",
       "1                      0  \n",
       "2                      0  \n",
       "3                      0  \n",
       "4                      0  \n",
       "\n",
       "[5 rows x 29 columns]"
      ]
     },
     "execution_count": 4,
     "metadata": {},
     "output_type": "execute_result"
    }
   ],
   "source": [
    "metadata.head()"
   ]
  },
  {
   "cell_type": "code",
   "execution_count": 7,
   "metadata": {},
   "outputs": [],
   "source": [
    "pmi_check_df = metadata.loc[:,['pmi', 'sample', 'alzheimers_or_control']].drop_duplicates()"
   ]
  },
  {
   "cell_type": "code",
   "execution_count": 8,
   "metadata": {},
   "outputs": [
    {
     "data": {
      "text/plain": [
       "(48, 3)"
      ]
     },
     "execution_count": 8,
     "metadata": {},
     "output_type": "execute_result"
    }
   ],
   "source": [
    "pmi_check_df.shape"
   ]
  },
  {
   "cell_type": "code",
   "execution_count": 11,
   "metadata": {},
   "outputs": [
    {
     "data": {
      "text/plain": [
       "(array([0.07154213, 0.14308426, 0.07154213, 0.        , 0.02384738,\n",
       "        0.        , 0.07154213, 0.        , 0.        , 0.02384738]),\n",
       " array([ 1.5       ,  3.96666667,  6.43333333,  8.9       , 11.36666667,\n",
       "        13.83333333, 16.3       , 18.76666667, 21.23333333, 23.7       ,\n",
       "        26.16666667]),\n",
       " <BarContainer object of 10 artists>)"
      ]
     },
     "execution_count": 11,
     "metadata": {},
     "output_type": "execute_result"
    },
    {
     "data": {
      "image/png": "[encoded data removed]",
      "text/plain": [
       "<Figure size 640x480 with 1 Axes>"
      ]
     },
     "metadata": {},
     "output_type": "display_data"
    }
   ],
   "source": [
    "plt.hist(pmi_check_df[pmi_check_df.alzheimers_or_control == 0].pmi, alpha= 0.5, density = True)\n",
    "plt.hist(pmi_check_df[pmi_check_df.alzheimers_or_control == 1].pmi, alpha = 0.5, density = True)"
   ]
  },
  {
   "cell_type": "code",
   "execution_count": 13,
   "metadata": {},
   "outputs": [
    {
     "name": "stdout",
     "output_type": "stream",
     "text": [
      "12.69833333333333\n",
      "8.810784313725488\n"
     ]
    }
   ],
   "source": [
    "print(pmi_check_df[pmi_check_df.alzheimers_or_control == 0].pmi.mean())\n",
    "print(pmi_check_df[pmi_check_df.alzheimers_or_control == 1].pmi.mean())"
   ]
  },
  {
   "cell_type": "code",
   "execution_count": 14,
   "metadata": {},
   "outputs": [
    {
     "name": "stdout",
     "output_type": "stream",
     "text": [
      "8.08333333333333\n",
      "5.33333333333333\n"
     ]
    }
   ],
   "source": [
    "print(pmi_check_df[pmi_check_df.alzheimers_or_control == 0].pmi.median())\n",
    "print(pmi_check_df[pmi_check_df.alzheimers_or_control == 1].pmi.median())"
   ]
  },
  {
   "cell_type": "code",
   "execution_count": 15,
   "metadata": {},
   "outputs": [
    {
     "name": "stdout",
     "output_type": "stream",
     "text": [
      "15.283873472198598\n",
      "6.9430419335367475\n"
     ]
    }
   ],
   "source": [
    "print(pmi_check_df[pmi_check_df.alzheimers_or_control == 0].pmi.std())\n",
    "print(pmi_check_df[pmi_check_df.alzheimers_or_control == 1].pmi.std())"
   ]
  },
  {
   "cell_type": "code",
   "execution_count": 18,
   "metadata": {},
   "outputs": [
    {
     "data": {
      "text/plain": [
       "TtestResult(statistic=0.9889433171382404, pvalue=0.3279787924750106, df=45.0)"
      ]
     },
     "execution_count": 18,
     "metadata": {},
     "output_type": "execute_result"
    }
   ],
   "source": [
    "from scipy import stats\n",
    "stats.ttest_ind(pmi_check_df[pmi_check_df.alzheimers_or_control == 0].pmi.dropna(), pmi_check_df[pmi_check_df.alzheimers_or_control == 1].pmi.dropna())"
   ]
  },
  {
   "cell_type": "code",
   "execution_count": 17,
   "metadata": {},
   "outputs": [
    {
     "data": {
      "text/plain": [
       "1"
      ]
     },
     "execution_count": 17,
     "metadata": {},
     "output_type": "execute_result"
    }
   ],
   "source": [
    "pmi_check_df.pmi.isna().sum()"
   ]
  }
 ],
 "metadata": {
  "language_info": {
   "name": "python"
  }
 },
 "nbformat": 4,
 "nbformat_minor": 2
}
