{
 "cells": [
  {
   "cell_type": "code",
   "execution_count": 1,
   "metadata": {},
   "outputs": [
    {
     "name": "stderr",
     "output_type": "stream",
     "text": [
      "/n/groups/patel/adithya/scenv/lib/python3.10/site-packages/xgboost/core.py:265: FutureWarning: Your system has an old version of glibc (< 2.28). We will stop supporting Linux distros with glibc older than 2.28 after **May 31, 2025**. Please upgrade to a recent Linux distro (with glibc 2.28+) to use future versions of XGBoost.\n",
      "Note: You have installed the 'manylinux2014' variant of XGBoost. Certain features such as GPU algorithms or federated learning are not available. To use these features, please upgrade to a recent Linux distro with glibc 2.28+, and install the 'manylinux_2_28' variant.\n",
      "  warnings.warn(\n"
     ]
    }
   ],
   "source": [
    "import argparse\n",
    "import os\n",
    "import pandas as pd\n",
    "import numpy as np\n",
    "from sklearn.metrics import (\n",
    "    accuracy_score, roc_auc_score, average_precision_score, recall_score,\n",
    "    precision_score, f1_score, matthews_corrcoef\n",
    ")\n",
    "from flaml import AutoML\n",
    "import matplotlib.pyplot as plt\n",
    "import joblib\n",
    "from sklearn.model_selection import StratifiedShuffleSplit\n",
    "from sklearn.model_selection import train_test_split\n",
    "from sklearn.model_selection import StratifiedGroupKFold"
   ]
  },
  {
   "cell_type": "code",
   "execution_count": 2,
   "metadata": {},
   "outputs": [
    {
     "name": "stdout",
     "output_type": "stream",
     "text": [
      "Metadata is loaded\n",
      "Number of cases in training: 21958\n",
      "Number of cases in test: 4190\n"
     ]
    }
   ],
   "source": [
    "metadata = pd.read_parquet('/home/adm808/New_CellMetadataSyn1848517.parquet')\n",
    "print(\"Metadata is loaded\")\n",
    "\n",
    "# Process APOE genotype as categorical -- Hot encoding of apoe_genotype\n",
    "metadata = pd.get_dummies(metadata, columns=[\"apoe_genotype\"])\n",
    "apoe_genotype_columns = [col for col in metadata.columns if col.startswith(\"apoe_genotype_\")]\n",
    "\n",
    "\n",
    "# Stratified Shuffle Split based on `sample_id`to split metadata\n",
    "# Define Alzheimer's or control status directly based on `age_first_ad_dx`\n",
    "metadata = metadata.copy()\n",
    "metadata['alzheimers_or_control'] = metadata['age_first_ad_dx'].notnull().astype(int)\n",
    "\n",
    "# Extract unique sample IDs and their associated Alzheimer's/control status -- drop duplicates\n",
    "sample_summary = metadata[['sample', 'alzheimers_or_control', 'msex']].drop_duplicates()\n",
    "\n",
    "# I need to create a combined stratification variable\n",
    "sample_summary['stratify_group'] = sample_summary['alzheimers_or_control'].astype(str) + \"_\" + sample_summary['msex'].astype(str)\n",
    "\n",
    "# Perform stratified train-test split on `sample_id`, stratified by `alzheimers_or_control`\n",
    "train_samples, test_samples = train_test_split(\n",
    "    sample_summary['sample'],\n",
    "    test_size=0.2,\n",
    "    random_state=42,\n",
    "    stratify=sample_summary['stratify_group']\n",
    ")\n",
    "\n",
    "# Filter metadata by train and test `sample_id`\n",
    "train_metadata = metadata[metadata['sample'].isin(train_samples)]\n",
    "test_metadata = metadata[metadata['sample'].isin(test_samples)]\n",
    "\n",
    "# Filter both the training and testing for cell type -- This is cell on cell prediction\n",
    "# train_metadata = train_metadata[train_metadata['broad.cell.type'] == cell_type]\n",
    "# test_metadata = test_metadata[test_metadata['broad.cell.type'] == cell_type]\n",
    "\n",
    "\n",
    "print(f\"Number of cases in training: {sum(train_metadata['alzheimers_or_control'])}\")\n",
    "print(f\"Number of cases in test: {sum(test_metadata['alzheimers_or_control'])}\")\n"
   ]
  },
  {
   "cell_type": "code",
   "execution_count": 3,
   "metadata": {},
   "outputs": [
    {
     "data": {
      "text/html": [
       "<div>\n",
       "<style scoped>\n",
       "    .dataframe tbody tr th:only-of-type {\n",
       "        vertical-align: middle;\n",
       "    }\n",
       "\n",
       "    .dataframe tbody tr th {\n",
       "        vertical-align: top;\n",
       "    }\n",
       "\n",
       "    .dataframe thead th {\n",
       "        text-align: right;\n",
       "    }\n",
       "</style>\n",
       "<table border=\"1\" class=\"dataframe\">\n",
       "  <thead>\n",
       "    <tr style=\"text-align: right;\">\n",
       "      <th></th>\n",
       "      <th>TAG</th>\n",
       "      <th>projid</th>\n",
       "      <th>tsne1</th>\n",
       "      <th>tsne2</th>\n",
       "      <th>pre.cluster</th>\n",
       "      <th>broad.cell.type</th>\n",
       "      <th>Subcluster</th>\n",
       "      <th>msex</th>\n",
       "      <th>age_first_ad_dx</th>\n",
       "      <th>braaksc</th>\n",
       "      <th>...</th>\n",
       "      <th>ceradsc</th>\n",
       "      <th>cogdx</th>\n",
       "      <th>dcfdx_lv</th>\n",
       "      <th>individualID</th>\n",
       "      <th>sample</th>\n",
       "      <th>apoe_genotype_23.0</th>\n",
       "      <th>apoe_genotype_33.0</th>\n",
       "      <th>apoe_genotype_34.0</th>\n",
       "      <th>apoe_genotype_44.0</th>\n",
       "      <th>alzheimers_or_control</th>\n",
       "    </tr>\n",
       "  </thead>\n",
       "  <tbody>\n",
       "    <tr>\n",
       "      <th>0</th>\n",
       "      <td>AAACGGGAGATCCCGC.1</td>\n",
       "      <td>11409232</td>\n",
       "      <td>18.076541</td>\n",
       "      <td>43.899396</td>\n",
       "      <td>15</td>\n",
       "      <td>Ex</td>\n",
       "      <td>Ex8</td>\n",
       "      <td>1.0</td>\n",
       "      <td>None</td>\n",
       "      <td>3.0</td>\n",
       "      <td>...</td>\n",
       "      <td>4.0</td>\n",
       "      <td>2.0</td>\n",
       "      <td>2.0</td>\n",
       "      <td>R8744945</td>\n",
       "      <td>1</td>\n",
       "      <td>False</td>\n",
       "      <td>True</td>\n",
       "      <td>False</td>\n",
       "      <td>False</td>\n",
       "      <td>0</td>\n",
       "    </tr>\n",
       "    <tr>\n",
       "      <th>1</th>\n",
       "      <td>AAATGCCTCCAATGGT.1</td>\n",
       "      <td>11409232</td>\n",
       "      <td>8.130535</td>\n",
       "      <td>20.687424</td>\n",
       "      <td>3</td>\n",
       "      <td>Ex</td>\n",
       "      <td>Ex0</td>\n",
       "      <td>1.0</td>\n",
       "      <td>None</td>\n",
       "      <td>3.0</td>\n",
       "      <td>...</td>\n",
       "      <td>4.0</td>\n",
       "      <td>2.0</td>\n",
       "      <td>2.0</td>\n",
       "      <td>R8744945</td>\n",
       "      <td>1</td>\n",
       "      <td>False</td>\n",
       "      <td>True</td>\n",
       "      <td>False</td>\n",
       "      <td>False</td>\n",
       "      <td>0</td>\n",
       "    </tr>\n",
       "    <tr>\n",
       "      <th>2</th>\n",
       "      <td>AACCATGTCAGTGCAT.1</td>\n",
       "      <td>11409232</td>\n",
       "      <td>17.088242</td>\n",
       "      <td>47.272289</td>\n",
       "      <td>15</td>\n",
       "      <td>Ex</td>\n",
       "      <td>Ex8</td>\n",
       "      <td>1.0</td>\n",
       "      <td>None</td>\n",
       "      <td>3.0</td>\n",
       "      <td>...</td>\n",
       "      <td>4.0</td>\n",
       "      <td>2.0</td>\n",
       "      <td>2.0</td>\n",
       "      <td>R8744945</td>\n",
       "      <td>1</td>\n",
       "      <td>False</td>\n",
       "      <td>True</td>\n",
       "      <td>False</td>\n",
       "      <td>False</td>\n",
       "      <td>0</td>\n",
       "    </tr>\n",
       "    <tr>\n",
       "      <th>3</th>\n",
       "      <td>AACCATGTCTGTACGA.1</td>\n",
       "      <td>11409232</td>\n",
       "      <td>15.482062</td>\n",
       "      <td>23.718378</td>\n",
       "      <td>3</td>\n",
       "      <td>Ex</td>\n",
       "      <td>Ex0</td>\n",
       "      <td>1.0</td>\n",
       "      <td>None</td>\n",
       "      <td>3.0</td>\n",
       "      <td>...</td>\n",
       "      <td>4.0</td>\n",
       "      <td>2.0</td>\n",
       "      <td>2.0</td>\n",
       "      <td>R8744945</td>\n",
       "      <td>1</td>\n",
       "      <td>False</td>\n",
       "      <td>True</td>\n",
       "      <td>False</td>\n",
       "      <td>False</td>\n",
       "      <td>0</td>\n",
       "    </tr>\n",
       "    <tr>\n",
       "      <th>4</th>\n",
       "      <td>AACCGCGTCCGCATAA.1</td>\n",
       "      <td>11409232</td>\n",
       "      <td>28.993102</td>\n",
       "      <td>16.223905</td>\n",
       "      <td>2</td>\n",
       "      <td>Ex</td>\n",
       "      <td>Ex0</td>\n",
       "      <td>1.0</td>\n",
       "      <td>None</td>\n",
       "      <td>3.0</td>\n",
       "      <td>...</td>\n",
       "      <td>4.0</td>\n",
       "      <td>2.0</td>\n",
       "      <td>2.0</td>\n",
       "      <td>R8744945</td>\n",
       "      <td>1</td>\n",
       "      <td>False</td>\n",
       "      <td>True</td>\n",
       "      <td>False</td>\n",
       "      <td>False</td>\n",
       "      <td>0</td>\n",
       "    </tr>\n",
       "  </tbody>\n",
       "</table>\n",
       "<p>5 rows × 29 columns</p>\n",
       "</div>"
      ],
      "text/plain": [
       "                  TAG    projid      tsne1      tsne2  pre.cluster  \\\n",
       "0  AAACGGGAGATCCCGC.1  11409232  18.076541  43.899396           15   \n",
       "1  AAATGCCTCCAATGGT.1  11409232   8.130535  20.687424            3   \n",
       "2  AACCATGTCAGTGCAT.1  11409232  17.088242  47.272289           15   \n",
       "3  AACCATGTCTGTACGA.1  11409232  15.482062  23.718378            3   \n",
       "4  AACCGCGTCCGCATAA.1  11409232  28.993102  16.223905            2   \n",
       "\n",
       "  broad.cell.type Subcluster  msex age_first_ad_dx  braaksc  ... ceradsc  \\\n",
       "0              Ex        Ex8   1.0            None      3.0  ...     4.0   \n",
       "1              Ex        Ex0   1.0            None      3.0  ...     4.0   \n",
       "2              Ex        Ex8   1.0            None      3.0  ...     4.0   \n",
       "3              Ex        Ex0   1.0            None      3.0  ...     4.0   \n",
       "4              Ex        Ex0   1.0            None      3.0  ...     4.0   \n",
       "\n",
       "   cogdx  dcfdx_lv  individualID sample apoe_genotype_23.0  \\\n",
       "0    2.0       2.0      R8744945      1              False   \n",
       "1    2.0       2.0      R8744945      1              False   \n",
       "2    2.0       2.0      R8744945      1              False   \n",
       "3    2.0       2.0      R8744945      1              False   \n",
       "4    2.0       2.0      R8744945      1              False   \n",
       "\n",
       "   apoe_genotype_33.0  apoe_genotype_34.0  apoe_genotype_44.0  \\\n",
       "0                True               False               False   \n",
       "1                True               False               False   \n",
       "2                True               False               False   \n",
       "3                True               False               False   \n",
       "4                True               False               False   \n",
       "\n",
       "   alzheimers_or_control  \n",
       "0                      0  \n",
       "1                      0  \n",
       "2                      0  \n",
       "3                      0  \n",
       "4                      0  \n",
       "\n",
       "[5 rows x 29 columns]"
      ]
     },
     "execution_count": 3,
     "metadata": {},
     "output_type": "execute_result"
    }
   ],
   "source": [
    "train_metadata.head()"
   ]
  },
  {
   "cell_type": "code",
   "execution_count": 4,
   "metadata": {},
   "outputs": [
    {
     "data": {
      "text/plain": [
       "Index(['TAG', 'projid', 'tsne1', 'tsne2', 'pre.cluster', 'broad.cell.type',\n",
       "       'Subcluster', 'msex', 'age_first_ad_dx', 'braaksc', 'Study', 'educ',\n",
       "       'race', 'spanish', 'age_at_visit_max', 'age_death',\n",
       "       'cts_mmse30_first_ad_dx', 'cts_mmse30_lv', 'pmi', 'ceradsc', 'cogdx',\n",
       "       'dcfdx_lv', 'individualID', 'sample', 'apoe_genotype_23.0',\n",
       "       'apoe_genotype_33.0', 'apoe_genotype_34.0', 'apoe_genotype_44.0',\n",
       "       'alzheimers_or_control'],\n",
       "      dtype='object')"
      ]
     },
     "execution_count": 4,
     "metadata": {},
     "output_type": "execute_result"
    }
   ],
   "source": [
    "train_metadata.columns"
   ]
  },
  {
   "cell_type": "code",
   "execution_count": 5,
   "metadata": {},
   "outputs": [
    {
     "data": {
      "text/plain": [
       "array(['80.098562628336751', '80.098562628336751', '80.098562628336751',\n",
       "       '80.098562628336751', '80.098562628336751', '80.098562628336751',\n",
       "       '80.098562628336751', '80.098562628336751', '80.098562628336751'],\n",
       "      dtype=object)"
      ]
     },
     "execution_count": 5,
     "metadata": {},
     "output_type": "execute_result"
    }
   ],
   "source": [
    "train_metadata.age_death[1:10].values"
   ]
  },
  {
   "cell_type": "code",
   "execution_count": 6,
   "metadata": {},
   "outputs": [
    {
     "name": "stderr",
     "output_type": "stream",
     "text": [
      "/tmp/ipykernel_10946/283464333.py:3: SettingWithCopyWarning: \n",
      "A value is trying to be set on a copy of a slice from a DataFrame.\n",
      "Try using .loc[row_indexer,col_indexer] = value instead\n",
      "\n",
      "See the caveats in the documentation: https://pandas.pydata.org/pandas-docs/stable/user_guide/indexing.html#returning-a-view-versus-a-copy\n",
      "  train_metadata.age_death = train_metadata.age_death.astype(float)\n",
      "/tmp/ipykernel_10946/283464333.py:4: SettingWithCopyWarning: \n",
      "A value is trying to be set on a copy of a slice from a DataFrame.\n",
      "Try using .loc[row_indexer,col_indexer] = value instead\n",
      "\n",
      "See the caveats in the documentation: https://pandas.pydata.org/pandas-docs/stable/user_guide/indexing.html#returning-a-view-versus-a-copy\n",
      "  test_metadata.age_death = test_metadata.age_death.astype(float)\n",
      "/tmp/ipykernel_10946/283464333.py:8: SettingWithCopyWarning: \n",
      "A value is trying to be set on a copy of a slice from a DataFrame.\n",
      "Try using .loc[row_indexer,col_indexer] = value instead\n",
      "\n",
      "See the caveats in the documentation: https://pandas.pydata.org/pandas-docs/stable/user_guide/indexing.html#returning-a-view-versus-a-copy\n",
      "  train_metadata.age_first_ad_dx = train_metadata.age_first_ad_dx.astype(float)\n",
      "/tmp/ipykernel_10946/283464333.py:9: SettingWithCopyWarning: \n",
      "A value is trying to be set on a copy of a slice from a DataFrame.\n",
      "Try using .loc[row_indexer,col_indexer] = value instead\n",
      "\n",
      "See the caveats in the documentation: https://pandas.pydata.org/pandas-docs/stable/user_guide/indexing.html#returning-a-view-versus-a-copy\n",
      "  test_metadata.age_first_ad_dx = test_metadata.age_first_ad_dx.astype(float)\n"
     ]
    }
   ],
   "source": [
    "train_metadata.loc[train_metadata.age_death == '90+', 'age_death'] = 90\n",
    "test_metadata.loc[test_metadata.age_death == '90+', 'age_death'] = 90\n",
    "train_metadata.age_death = train_metadata.age_death.astype(float)\n",
    "test_metadata.age_death = test_metadata.age_death.astype(float)\n",
    "\n",
    "train_metadata.loc[train_metadata.age_first_ad_dx == '90+', 'age_first_ad_dx'] = 90\n",
    "test_metadata.loc[test_metadata.age_first_ad_dx == '90+', 'age_first_ad_dx'] = 90\n",
    "train_metadata.age_first_ad_dx = train_metadata.age_first_ad_dx.astype(float)\n",
    "test_metadata.age_first_ad_dx = test_metadata.age_first_ad_dx.astype(float)"
   ]
  },
  {
   "cell_type": "code",
   "execution_count": 7,
   "metadata": {},
   "outputs": [
    {
     "data": {
      "image/png": "[encoded data removed]",
      "text/plain": [
       "<Figure size 640x480 with 1 Axes>"
      ]
     },
     "metadata": {},
     "output_type": "display_data"
    }
   ],
   "source": [
    "plt.hist(train_metadata[train_metadata.alzheimers_or_control == 1].age_death, alpha = 0.5, label = \"train case\")\n",
    "plt.hist(train_metadata[train_metadata.alzheimers_or_control == 0].age_death, alpha = 0.5, label = 'train control')\n",
    "plt.hist(test_metadata[test_metadata.alzheimers_or_control == 1].age_death, alpha = 0.5, label = 'test case')\n",
    "plt.hist(test_metadata[test_metadata.alzheimers_or_control == 0].age_death, alpha = 0.5, label = 'test control')\n",
    "plt.legend()\n",
    "plt.show()"
   ]
  },
  {
   "cell_type": "code",
   "execution_count": 8,
   "metadata": {},
   "outputs": [
    {
     "data": {
      "image/png": "[encoded data removed]",
      "text/plain": [
       "<Figure size 640x480 with 1 Axes>"
      ]
     },
     "metadata": {},
     "output_type": "display_data"
    }
   ],
   "source": [
    "plt.hist(train_metadata[train_metadata.alzheimers_or_control == 1].age_first_ad_dx, alpha = 0.5, label = \"train case\")\n",
    "plt.hist(train_metadata[train_metadata.alzheimers_or_control == 0].age_death, alpha = 0.5, label = 'train control')\n",
    "plt.hist(test_metadata[test_metadata.alzheimers_or_control == 1].age_first_ad_dx, alpha = 0.5, label = 'test case')\n",
    "plt.hist(test_metadata[test_metadata.alzheimers_or_control == 0].age_death, alpha = 0.5, label = 'test control')\n",
    "plt.legend()\n",
    "plt.show()"
   ]
  },
  {
   "cell_type": "code",
   "execution_count": null,
   "metadata": {},
   "outputs": [],
   "source": []
  },
  {
   "cell_type": "code",
   "execution_count": 9,
   "metadata": {},
   "outputs": [],
   "source": [
    "X_train = train_metadata.age_death\n",
    "y_train = train_metadata.alzheimers_or_control\n",
    "\n",
    "X_test = test_metadata.age_death\n",
    "y_test = test_metadata.alzheimers_or_control"
   ]
  },
  {
   "cell_type": "code",
   "execution_count": 10,
   "metadata": {},
   "outputs": [
    {
     "data": {
      "text/plain": [
       "((0,), (55677,))"
      ]
     },
     "execution_count": 10,
     "metadata": {},
     "output_type": "execute_result"
    }
   ],
   "source": [
    "X_train[X_train == '90+'].shape, X_train.shape"
   ]
  },
  {
   "cell_type": "code",
   "execution_count": 11,
   "metadata": {},
   "outputs": [
    {
     "data": {
      "text/plain": [
       "((0,), (14957,))"
      ]
     },
     "execution_count": 11,
     "metadata": {},
     "output_type": "execute_result"
    }
   ],
   "source": [
    "X_test[X_test == '90+'].shape, X_test.shape"
   ]
  },
  {
   "cell_type": "code",
   "execution_count": 12,
   "metadata": {},
   "outputs": [
    {
     "name": "stdout",
     "output_type": "stream",
     "text": [
      "0.4249372197776597\n",
      "0.6375960751646036\n"
     ]
    }
   ],
   "source": [
    "X_train = train_metadata.loc[:,['age_death']]#, 'msex', 'apoe_genotype_23.0',\n",
    "       #'apoe_genotype_33.0', 'apoe_genotype_34.0', 'apoe_genotype_44.0']]\n",
    "y_train = train_metadata.alzheimers_or_control\n",
    "\n",
    "X_test = test_metadata.loc[:,['age_death']]#, 'msex', 'apoe_genotype_23.0',\n",
    "       #'apoe_genotype_33.0', 'apoe_genotype_34.0', 'apoe_genotype_44.0']]\n",
    "y_test = test_metadata.alzheimers_or_control\n",
    "\n",
    "from sklearn.datasets import load_iris\n",
    "from sklearn.linear_model import LogisticRegression\n",
    "clf = LogisticRegression(random_state=0).fit(X_train.values.reshape(-1, 1), y_train)\n",
    "# clf.predict(y_test)\n",
    "print(roc_auc_score(y_test, clf.predict_proba(X_test.values.reshape(-1, 1))[:,1]))\n",
    "\n",
    "print(roc_auc_score(y_train, clf.predict_proba(X_train.values.reshape(-1, 1))[:,1]))"
   ]
  },
  {
   "cell_type": "code",
   "execution_count": 13,
   "metadata": {},
   "outputs": [
    {
     "data": {
      "text/plain": [
       "(array([17066.,     0.,     0.,     0.,     0.,     0.,     0.,     0.,\n",
       "            0., 16653.]),\n",
       " array([0. , 0.1, 0.2, 0.3, 0.4, 0.5, 0.6, 0.7, 0.8, 0.9, 1. ]),\n",
       " <BarContainer object of 10 artists>)"
      ]
     },
     "execution_count": 13,
     "metadata": {},
     "output_type": "execute_result"
    },
    {
     "data": {
      "image/png": "[encoded data removed]",
      "text/plain": [
       "<Figure size 640x480 with 1 Axes>"
      ]
     },
     "metadata": {},
     "output_type": "display_data"
    }
   ],
   "source": [
    "plt.hist(train_metadata[train_metadata.alzheimers_or_control == 1].msex, alpha = 0.5)\n",
    "plt.hist(train_metadata[train_metadata.alzheimers_or_control == 0].msex, alpha = 0.5)"
   ]
  },
  {
   "cell_type": "code",
   "execution_count": 14,
   "metadata": {},
   "outputs": [
    {
     "data": {
      "image/png": "[encoded data removed]",
      "text/plain": [
       "<Figure size 640x480 with 1 Axes>"
      ]
     },
     "metadata": {},
     "output_type": "display_data"
    }
   ],
   "source": [
    "plt.hist(test_metadata[test_metadata.alzheimers_or_control == 1].msex, alpha = 0.5, bins = 5)\n",
    "plt.hist(test_metadata[test_metadata.alzheimers_or_control == 0].msex, alpha = 0.5, bins = 5)\n",
    "plt.show()"
   ]
  },
  {
   "cell_type": "code",
   "execution_count": 15,
   "metadata": {},
   "outputs": [
    {
     "data": {
      "text/plain": [
       "0        22.0\n",
       "1        22.0\n",
       "2        22.0\n",
       "3        22.0\n",
       "4        22.0\n",
       "         ... \n",
       "70629    23.0\n",
       "70630    23.0\n",
       "70631    23.0\n",
       "70632    23.0\n",
       "70633    23.0\n",
       "Name: educ, Length: 55677, dtype: float64"
      ]
     },
     "execution_count": 15,
     "metadata": {},
     "output_type": "execute_result"
    }
   ],
   "source": [
    "train_metadata.educ"
   ]
  },
  {
   "cell_type": "code",
   "execution_count": 38,
   "metadata": {},
   "outputs": [
    {
     "data": {
      "text/plain": [
       "0        0\n",
       "1        0\n",
       "2        0\n",
       "3        0\n",
       "4        0\n",
       "        ..\n",
       "66956    0\n",
       "66957    0\n",
       "66958    0\n",
       "70346    0\n",
       "70347    0\n",
       "Name: alzheimers_or_control, Length: 484, dtype: int64"
      ]
     },
     "execution_count": 38,
     "metadata": {},
     "output_type": "execute_result"
    }
   ],
   "source": [
    "test_predictions[0]\n",
    "test_labels[0]"
   ]
  },
  {
   "cell_type": "code",
   "execution_count": 47,
   "metadata": {},
   "outputs": [
    {
     "name": "stdout",
     "output_type": "stream",
     "text": [
      "0\n",
      "Number of cases in training: 20993\n",
      "Number of cases in test: 5155\n"
     ]
    },
    {
     "name": "stderr",
     "output_type": "stream",
     "text": [
      "/tmp/ipykernel_10946/1278369392.py:24: SettingWithCopyWarning: \n",
      "A value is trying to be set on a copy of a slice from a DataFrame.\n",
      "Try using .loc[row_indexer,col_indexer] = value instead\n",
      "\n",
      "See the caveats in the documentation: https://pandas.pydata.org/pandas-docs/stable/user_guide/indexing.html#returning-a-view-versus-a-copy\n",
      "  train_metadata.age_death = train_metadata.age_death.astype(float)\n",
      "/tmp/ipykernel_10946/1278369392.py:25: SettingWithCopyWarning: \n",
      "A value is trying to be set on a copy of a slice from a DataFrame.\n",
      "Try using .loc[row_indexer,col_indexer] = value instead\n",
      "\n",
      "See the caveats in the documentation: https://pandas.pydata.org/pandas-docs/stable/user_guide/indexing.html#returning-a-view-versus-a-copy\n",
      "  test_metadata.age_death = test_metadata.age_death.astype(float)\n"
     ]
    },
    {
     "name": "stdout",
     "output_type": "stream",
     "text": [
      "0.3946460453864681\n",
      "0.714510989826291\n",
      "1\n",
      "Number of cases in training: 19954\n",
      "Number of cases in test: 6194\n"
     ]
    },
    {
     "name": "stderr",
     "output_type": "stream",
     "text": [
      "/tmp/ipykernel_10946/1278369392.py:24: SettingWithCopyWarning: \n",
      "A value is trying to be set on a copy of a slice from a DataFrame.\n",
      "Try using .loc[row_indexer,col_indexer] = value instead\n",
      "\n",
      "See the caveats in the documentation: https://pandas.pydata.org/pandas-docs/stable/user_guide/indexing.html#returning-a-view-versus-a-copy\n",
      "  train_metadata.age_death = train_metadata.age_death.astype(float)\n",
      "/tmp/ipykernel_10946/1278369392.py:25: SettingWithCopyWarning: \n",
      "A value is trying to be set on a copy of a slice from a DataFrame.\n",
      "Try using .loc[row_indexer,col_indexer] = value instead\n",
      "\n",
      "See the caveats in the documentation: https://pandas.pydata.org/pandas-docs/stable/user_guide/indexing.html#returning-a-view-versus-a-copy\n",
      "  test_metadata.age_death = test_metadata.age_death.astype(float)\n"
     ]
    },
    {
     "name": "stdout",
     "output_type": "stream",
     "text": [
      "0.9687999232952583\n",
      "0.5544755974966683\n",
      "2\n",
      "Number of cases in training: 22010\n",
      "Number of cases in test: 4138\n",
      "0.7340489455817066\n",
      "0.5960510906530546\n",
      "3\n",
      "Number of cases in training: 20324\n",
      "Number of cases in test: 5824\n"
     ]
    },
    {
     "name": "stderr",
     "output_type": "stream",
     "text": [
      "/tmp/ipykernel_10946/1278369392.py:24: SettingWithCopyWarning: \n",
      "A value is trying to be set on a copy of a slice from a DataFrame.\n",
      "Try using .loc[row_indexer,col_indexer] = value instead\n",
      "\n",
      "See the caveats in the documentation: https://pandas.pydata.org/pandas-docs/stable/user_guide/indexing.html#returning-a-view-versus-a-copy\n",
      "  train_metadata.age_death = train_metadata.age_death.astype(float)\n",
      "/tmp/ipykernel_10946/1278369392.py:25: SettingWithCopyWarning: \n",
      "A value is trying to be set on a copy of a slice from a DataFrame.\n",
      "Try using .loc[row_indexer,col_indexer] = value instead\n",
      "\n",
      "See the caveats in the documentation: https://pandas.pydata.org/pandas-docs/stable/user_guide/indexing.html#returning-a-view-versus-a-copy\n",
      "  test_metadata.age_death = test_metadata.age_death.astype(float)\n",
      "/tmp/ipykernel_10946/1278369392.py:24: SettingWithCopyWarning: \n",
      "A value is trying to be set on a copy of a slice from a DataFrame.\n",
      "Try using .loc[row_indexer,col_indexer] = value instead\n",
      "\n",
      "See the caveats in the documentation: https://pandas.pydata.org/pandas-docs/stable/user_guide/indexing.html#returning-a-view-versus-a-copy\n",
      "  train_metadata.age_death = train_metadata.age_death.astype(float)\n",
      "/tmp/ipykernel_10946/1278369392.py:25: SettingWithCopyWarning: \n",
      "A value is trying to be set on a copy of a slice from a DataFrame.\n",
      "Try using .loc[row_indexer,col_indexer] = value instead\n",
      "\n",
      "See the caveats in the documentation: https://pandas.pydata.org/pandas-docs/stable/user_guide/indexing.html#returning-a-view-versus-a-copy\n",
      "  test_metadata.age_death = test_metadata.age_death.astype(float)\n"
     ]
    },
    {
     "name": "stdout",
     "output_type": "stream",
     "text": [
      "0.9106350774829035\n",
      "0.5393253132372392\n",
      "4\n",
      "Number of cases in training: 21723\n",
      "Number of cases in test: 4425\n",
      "0.8420766996931728\n",
      "0.6090435998356987\n",
      "5\n"
     ]
    },
    {
     "name": "stderr",
     "output_type": "stream",
     "text": [
      "/tmp/ipykernel_10946/1278369392.py:24: SettingWithCopyWarning: \n",
      "A value is trying to be set on a copy of a slice from a DataFrame.\n",
      "Try using .loc[row_indexer,col_indexer] = value instead\n",
      "\n",
      "See the caveats in the documentation: https://pandas.pydata.org/pandas-docs/stable/user_guide/indexing.html#returning-a-view-versus-a-copy\n",
      "  train_metadata.age_death = train_metadata.age_death.astype(float)\n",
      "/tmp/ipykernel_10946/1278369392.py:25: SettingWithCopyWarning: \n",
      "A value is trying to be set on a copy of a slice from a DataFrame.\n",
      "Try using .loc[row_indexer,col_indexer] = value instead\n",
      "\n",
      "See the caveats in the documentation: https://pandas.pydata.org/pandas-docs/stable/user_guide/indexing.html#returning-a-view-versus-a-copy\n",
      "  test_metadata.age_death = test_metadata.age_death.astype(float)\n",
      "/tmp/ipykernel_10946/1278369392.py:24: SettingWithCopyWarning: \n",
      "A value is trying to be set on a copy of a slice from a DataFrame.\n",
      "Try using .loc[row_indexer,col_indexer] = value instead\n",
      "\n",
      "See the caveats in the documentation: https://pandas.pydata.org/pandas-docs/stable/user_guide/indexing.html#returning-a-view-versus-a-copy\n",
      "  train_metadata.age_death = train_metadata.age_death.astype(float)\n",
      "/tmp/ipykernel_10946/1278369392.py:25: SettingWithCopyWarning: \n",
      "A value is trying to be set on a copy of a slice from a DataFrame.\n",
      "Try using .loc[row_indexer,col_indexer] = value instead\n",
      "\n",
      "See the caveats in the documentation: https://pandas.pydata.org/pandas-docs/stable/user_guide/indexing.html#returning-a-view-versus-a-copy\n",
      "  test_metadata.age_death = test_metadata.age_death.astype(float)\n"
     ]
    },
    {
     "name": "stdout",
     "output_type": "stream",
     "text": [
      "Number of cases in training: 21715\n",
      "Number of cases in test: 4433\n",
      "0.8754843763183595\n",
      "0.5660224800433583\n",
      "6\n",
      "Number of cases in training: 22072\n",
      "Number of cases in test: 4076\n"
     ]
    },
    {
     "name": "stderr",
     "output_type": "stream",
     "text": [
      "/tmp/ipykernel_10946/1278369392.py:24: SettingWithCopyWarning: \n",
      "A value is trying to be set on a copy of a slice from a DataFrame.\n",
      "Try using .loc[row_indexer,col_indexer] = value instead\n",
      "\n",
      "See the caveats in the documentation: https://pandas.pydata.org/pandas-docs/stable/user_guide/indexing.html#returning-a-view-versus-a-copy\n",
      "  train_metadata.age_death = train_metadata.age_death.astype(float)\n",
      "/tmp/ipykernel_10946/1278369392.py:25: SettingWithCopyWarning: \n",
      "A value is trying to be set on a copy of a slice from a DataFrame.\n",
      "Try using .loc[row_indexer,col_indexer] = value instead\n",
      "\n",
      "See the caveats in the documentation: https://pandas.pydata.org/pandas-docs/stable/user_guide/indexing.html#returning-a-view-versus-a-copy\n",
      "  test_metadata.age_death = test_metadata.age_death.astype(float)\n",
      "/tmp/ipykernel_10946/1278369392.py:24: SettingWithCopyWarning: \n",
      "A value is trying to be set on a copy of a slice from a DataFrame.\n",
      "Try using .loc[row_indexer,col_indexer] = value instead\n",
      "\n",
      "See the caveats in the documentation: https://pandas.pydata.org/pandas-docs/stable/user_guide/indexing.html#returning-a-view-versus-a-copy\n",
      "  train_metadata.age_death = train_metadata.age_death.astype(float)\n",
      "/tmp/ipykernel_10946/1278369392.py:25: SettingWithCopyWarning: \n",
      "A value is trying to be set on a copy of a slice from a DataFrame.\n",
      "Try using .loc[row_indexer,col_indexer] = value instead\n",
      "\n",
      "See the caveats in the documentation: https://pandas.pydata.org/pandas-docs/stable/user_guide/indexing.html#returning-a-view-versus-a-copy\n",
      "  test_metadata.age_death = test_metadata.age_death.astype(float)\n"
     ]
    },
    {
     "name": "stdout",
     "output_type": "stream",
     "text": [
      "0.515213948783966\n",
      "0.6549087613246012\n",
      "7\n",
      "Number of cases in training: 21322\n",
      "Number of cases in test: 4826\n",
      "0.5772089239942779\n",
      "0.614196928828921\n",
      "8\n",
      "Number of cases in training: 21737\n",
      "Number of cases in test: 4411\n"
     ]
    },
    {
     "name": "stderr",
     "output_type": "stream",
     "text": [
      "/tmp/ipykernel_10946/1278369392.py:24: SettingWithCopyWarning: \n",
      "A value is trying to be set on a copy of a slice from a DataFrame.\n",
      "Try using .loc[row_indexer,col_indexer] = value instead\n",
      "\n",
      "See the caveats in the documentation: https://pandas.pydata.org/pandas-docs/stable/user_guide/indexing.html#returning-a-view-versus-a-copy\n",
      "  train_metadata.age_death = train_metadata.age_death.astype(float)\n",
      "/tmp/ipykernel_10946/1278369392.py:25: SettingWithCopyWarning: \n",
      "A value is trying to be set on a copy of a slice from a DataFrame.\n",
      "Try using .loc[row_indexer,col_indexer] = value instead\n",
      "\n",
      "See the caveats in the documentation: https://pandas.pydata.org/pandas-docs/stable/user_guide/indexing.html#returning-a-view-versus-a-copy\n",
      "  test_metadata.age_death = test_metadata.age_death.astype(float)\n",
      "/tmp/ipykernel_10946/1278369392.py:24: SettingWithCopyWarning: \n",
      "A value is trying to be set on a copy of a slice from a DataFrame.\n",
      "Try using .loc[row_indexer,col_indexer] = value instead\n",
      "\n",
      "See the caveats in the documentation: https://pandas.pydata.org/pandas-docs/stable/user_guide/indexing.html#returning-a-view-versus-a-copy\n",
      "  train_metadata.age_death = train_metadata.age_death.astype(float)\n"
     ]
    },
    {
     "name": "stdout",
     "output_type": "stream",
     "text": [
      "0.5356817124622206\n",
      "0.6774884342093561\n",
      "9\n",
      "Number of cases in training: 20652\n",
      "Number of cases in test: 5496\n",
      "0.739640413088356\n",
      "0.6379749711326461\n"
     ]
    },
    {
     "name": "stderr",
     "output_type": "stream",
     "text": [
      "/tmp/ipykernel_10946/1278369392.py:25: SettingWithCopyWarning: \n",
      "A value is trying to be set on a copy of a slice from a DataFrame.\n",
      "Try using .loc[row_indexer,col_indexer] = value instead\n",
      "\n",
      "See the caveats in the documentation: https://pandas.pydata.org/pandas-docs/stable/user_guide/indexing.html#returning-a-view-versus-a-copy\n",
      "  test_metadata.age_death = test_metadata.age_death.astype(float)\n"
     ]
    }
   ],
   "source": [
    "for i in range(10):\n",
    "       print(i)\n",
    "       train_samples, test_samples = train_test_split(\n",
    "       sample_summary['sample'],\n",
    "       test_size=0.2,\n",
    "       random_state=i,\n",
    "       stratify=sample_summary['stratify_group']\n",
    "       )\n",
    "\n",
    "       # Filter metadata by train and test `sample_id`\n",
    "       train_metadata = metadata[metadata['sample'].isin(train_samples)]\n",
    "       test_metadata = metadata[metadata['sample'].isin(test_samples)]\n",
    "\n",
    "       # Filter both the training and testing for cell type -- This is cell on cell prediction\n",
    "       # train_metadata = train_metadata[train_metadata['broad.cell.type'] == cell_type]\n",
    "       # test_metadata = test_metadata[test_metadata['broad.cell.type'] == cell_type]\n",
    "\n",
    "\n",
    "       print(f\"Number of cases in training: {sum(train_metadata['alzheimers_or_control'])}\")\n",
    "       print(f\"Number of cases in test: {sum(test_metadata['alzheimers_or_control'])}\")\n",
    "\n",
    "       train_metadata.loc[train_metadata.age_death == '90+', 'age_death'] = 90\n",
    "       test_metadata.loc[test_metadata.age_death == '90+', 'age_death'] = 90\n",
    "       train_metadata.age_death = train_metadata.age_death.astype(float)\n",
    "       test_metadata.age_death = test_metadata.age_death.astype(float)\n",
    "\n",
    "\n",
    "       X_train = train_metadata.loc[:,['age_death', #'educ', 'msex', #'apoe_genotype_23.0',\n",
    "              #'apoe_genotype_33.0', 'apoe_genotype_34.0', \n",
    "              #'apoe_genotype_44.0'\n",
    "              ]]\n",
    "       y_train = train_metadata.alzheimers_or_control\n",
    "\n",
    "       X_test = test_metadata.loc[:,['age_death', #'educ', 'msex', #'apoe_genotype_23.0',\n",
    "              #'apoe_genotype_33.0', 'apoe_genotype_34.0', \n",
    "              #'apoe_genotype_44.0'\n",
    "              ]]\n",
    "       y_test = test_metadata.alzheimers_or_control\n",
    "\n",
    "       from sklearn.datasets import load_iris\n",
    "       from sklearn.linear_model import LogisticRegression\n",
    "       clf = LogisticRegression(random_state=0, max_iter = 1000000).fit(X_train.values#.reshape(-1, 1)\n",
    "                                                 , y_train)\n",
    "       # clf.predict(y_test)\n",
    "       print(roc_auc_score(y_test, clf.predict_proba(X_test.values#.reshape(-1, 1)\n",
    "                                                 )[:,1]))\n",
    "\n",
    "       print(roc_auc_score(y_train, clf.predict_proba(X_train.values#.reshape(-1, 1)\n",
    "                                                 )[:,1]))"
   ]
  },
  {
   "cell_type": "code",
   "execution_count": null,
   "metadata": {},
   "outputs": [],
   "source": [
    "from sklearn.model_selection import LeaveOneOut\n",
    "\n",
    "train_scores = []\n",
    "test_scores = []\n",
    "\n",
    "loo = LeaveOneOut()\n",
    "for train_index, test_index in loo.split(sample_summary['sample']):\n",
    "       train_samples = sample_summary['sample'].iloc[train_index]\n",
    "       test_samples = sample_summary['sample'].iloc[test_index]\n",
    "\n",
    "       # Filter metadata by train and test `sample_id`\n",
    "       train_metadata = metadata[metadata['sample'].isin(train_samples)]\n",
    "       test_metadata = metadata[metadata['sample'].isin(test_samples)]\n",
    "\n",
    "       # Filter both the training and testing for cell type -- This is cell on cell prediction\n",
    "       # train_metadata = train_metadata[train_metadata['broad.cell.type'] == cell_type]\n",
    "       # test_metadata = test_metadata[test_metadata['broad.cell.type'] == cell_type]\n",
    "\n",
    "\n",
    "       print(f\"Number of cases in training: {sum(train_metadata['alzheimers_or_control'])}\")\n",
    "       print(f\"Number of cases in test: {sum(test_metadata['alzheimers_or_control'])}\")\n",
    "\n",
    "       train_metadata.loc[train_metadata.age_death == '90+', 'age_death'] = 90\n",
    "       test_metadata.loc[test_metadata.age_death == '90+', 'age_death'] = 90\n",
    "       train_metadata.age_death = train_metadata.age_death.astype(float)\n",
    "       test_metadata.age_death = test_metadata.age_death.astype(float)\n",
    "\n",
    "\n",
    "       X_train = train_metadata.loc[:,['age_death', 'educ', 'msex', #'apoe_genotype_23.0',\n",
    "              #'apoe_genotype_33.0', 'apoe_genotype_34.0', \n",
    "              #'apoe_genotype_44.0'\n",
    "              ]]\n",
    "       y_train = train_metadata.alzheimers_or_control\n",
    "\n",
    "       X_test = test_metadata.loc[:,['age_death', 'educ', 'msex', #'apoe_genotype_23.0',\n",
    "              #'apoe_genotype_33.0', 'apoe_genotype_34.0', \n",
    "              #'apoe_genotype_44.0'\n",
    "              ]]\n",
    "       y_test = test_metadata.alzheimers_or_control\n",
    "\n",
    "       from sklearn.datasets import load_iris\n",
    "       from sklearn.linear_model import LogisticRegression\n",
    "       from sklearn.model_selection import LeaveOneOut\n",
    "       clf = LogisticRegression(random_state=0, max_iter = 1000000).fit(X_train.values#.reshape(-1, 1)\n",
    "                                                 , y_train)\n",
    "       # clf.predict(y_test)\n",
    "       # print(roc_auc_score(y_test, clf.predict_proba(X_test.values#.reshape(-1, 1)\n",
    "       #                                           )[:,1]))\n",
    "\n",
    "       # print(roc_auc_score(y_train, clf.predict_proba(X_train.values#.reshape(-1, 1)\n",
    "       #                                           )[:,1]))\n",
    "\n",
    "       print(clf.score(X_test.values, y_test))\n",
    "       print(clf.score(X_train.values, y_train))\n",
    "\n",
    "       #print(clf.score(y_train, clf.predict(X_train.values.reshape(-1, 1)\n",
    "                                                 #)[:,1]\n",
    "                                                 #)))\n",
    "\n",
    "       train_scores.append(clf.score(X_train.values, y_train))\n",
    "       test_scores.append(clf.score(X_test.values, y_test))\n",
    "       "
   ]
  },
  {
   "cell_type": "code",
   "execution_count": 44,
   "metadata": {},
   "outputs": [
    {
     "data": {
      "text/plain": [
       "(0.6458756883413462, 0.5833333333333334)"
      ]
     },
     "execution_count": 44,
     "metadata": {},
     "output_type": "execute_result"
    }
   ],
   "source": [
    "np.mean(train_scores), np.mean(test_scores)\n"
   ]
  },
  {
   "cell_type": "code",
   "execution_count": 42,
   "metadata": {},
   "outputs": [
    {
     "data": {
      "text/plain": [
       "(array([ 2.,  2., 17., 11.,  1.,  2.,  4.,  5.,  3.,  1.]),\n",
       " array([0.60995917, 0.61459521, 0.61923126, 0.6238673 , 0.62850335,\n",
       "        0.63313939, 0.63777544, 0.64241148, 0.64704753, 0.65168357,\n",
       "        0.65631962]),\n",
       " <BarContainer object of 10 artists>)"
      ]
     },
     "execution_count": 42,
     "metadata": {},
     "output_type": "execute_result"
    },
    {
     "data": {
      "image/png": "[encoded data removed]",
      "text/plain": [
       "<Figure size 640x480 with 1 Axes>"
      ]
     },
     "metadata": {},
     "output_type": "display_data"
    }
   ],
   "source": [
    "plt.hist(train_scores)"
   ]
  },
  {
   "cell_type": "code",
   "execution_count": 60,
   "metadata": {},
   "outputs": [
    {
     "name": "stdout",
     "output_type": "stream",
     "text": [
      "Optimal threshold from Precision-Recall curve: 0.24864980559810348\n"
     ]
    },
    {
     "name": "stderr",
     "output_type": "stream",
     "text": [
      "/n/groups/patel/adithya/scenv/lib/python3.10/site-packages/sklearn/base.py:486: UserWarning: X has feature names, but LogisticRegression was fitted without feature names\n",
      "  warnings.warn(\n",
      "/n/groups/patel/adithya/scenv/lib/python3.10/site-packages/sklearn/base.py:486: UserWarning: X has feature names, but LogisticRegression was fitted without feature names\n",
      "  warnings.warn(\n"
     ]
    }
   ],
   "source": [
    "    # Predictions and optimal threshold using F1 Precision-Recall Tradeoff Statistic\n",
    "    y_prob_train = clf.predict_proba(X_train)[:, 1]\n",
    "    y_prob_test = clf.predict_proba(X_test)[:, 1]\n",
    "\n",
    "    from sklearn.metrics import precision_recall_curve\n",
    "\n",
    "    # Get precision-recall curve and thresholds\n",
    "    precision, recall, thresholds = precision_recall_curve(y_train, y_prob_train)\n",
    "\n",
    "    # Avoid divide-by-zero\n",
    "    f1_scores = 2 * (precision * recall) / (precision + recall + 1e-8)\n",
    "\n",
    "    # Best threshold is the one with max F1\n",
    "    optimal_index = np.argmax(f1_scores)\n",
    "    optimal_threshold = thresholds[optimal_index]\n",
    "\n",
    "    print(f\"Optimal threshold from Precision-Recall curve: {optimal_threshold}\")\n",
    "    \n",
    "    y_pred_train_optimal = (y_prob_train >= optimal_threshold).astype(int)\n",
    "    y_pred_test_optimal = (y_prob_test >= optimal_threshold).astype(int)\n",
    "\n",
    "    # Calculate metrics\n",
    "    metrics = {\n",
    "        'train_accuracy': accuracy_score(y_train, y_pred_train_optimal),\n",
    "        'train_roc_auc': roc_auc_score(y_train, y_prob_train),\n",
    "        'train_avg_precision': average_precision_score(y_train, y_prob_train),\n",
    "        'train_recall': recall_score(y_train, y_pred_train_optimal),\n",
    "        'train_precision': precision_score(y_train, y_pred_train_optimal),\n",
    "        'train_f1': f1_score(y_train, y_pred_train_optimal),\n",
    "        'train_mcc': matthews_corrcoef(y_train, y_pred_train_optimal),\n",
    "        'test_accuracy': accuracy_score(y_test, y_pred_test_optimal),\n",
    "        'test_roc_auc': roc_auc_score(y_test, y_prob_test),\n",
    "        'test_avg_precision': average_precision_score(y_test, y_prob_test),\n",
    "        'test_recall': recall_score(y_test, y_pred_test_optimal),\n",
    "        'test_precision': precision_score(y_test, y_pred_test_optimal),\n",
    "        'test_f1': f1_score(y_test, y_pred_test_optimal),\n",
    "        'test_mcc': matthews_corrcoef(y_test, y_pred_test_optimal)\n",
    "    }"
   ]
  }
 ],
 "metadata": {
  "language_info": {
   "name": "python"
  }
 },
 "nbformat": 4,
 "nbformat_minor": 2
}
