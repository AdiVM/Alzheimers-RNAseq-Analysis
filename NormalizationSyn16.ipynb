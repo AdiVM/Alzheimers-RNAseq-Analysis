{
 "cells": [
  {
   "cell_type": "code",
   "execution_count": 2,
   "id": "cb9ddc6f-a7ab-4571-b1ea-a60b0197c7e1",
   "metadata": {},
   "outputs": [],
   "source": [
    "import pandas as pd\n",
    "CellMatrixSyn16780177 = pd.read_parquet('/home/adm808/CellMatrixSyn16780177.parquet')"
   ]
  },
  {
   "cell_type": "code",
   "execution_count": 3,
   "id": "1a5f1ca7-34f9-44a6-b9bc-068931139dc7",
   "metadata": {},
   "outputs": [],
   "source": [
    "import numpy as np\n",
    "\n",
    "# Assuming df is your gene expression DataFrame\n",
    "# Rows are genes, columns are cells\n",
    "\n",
    "# Step 1: Calculate CPM\n",
    "cpm_df = CellMatrixSyn16780177.div(CellMatrixSyn16780177.sum(axis=0), axis=1) * 1e6\n",
    "\n",
    "# Step 2: Apply log2 transformation\n",
    "log2_cpm_df = np.log2(cpm_df + 1)\n",
    "\n",
    "# Now log2_cpm_df contains the normalized and transformed data\n"
   ]
  },
  {
   "cell_type": "code",
   "execution_count": 4,
   "id": "31a603c2-8a93-48dc-92b2-9ef201d62cb1",
   "metadata": {},
   "outputs": [],
   "source": [
    "log2_cpm_df.to_parquet('/home/adm808/NormalizedCellMatrixSyn16780177.parquet')"
   ]
  },
  {
   "cell_type": "code",
   "execution_count": null,
   "id": "b5b12ab8-75c6-43c8-84f7-ee4cf0d58bc8",
   "metadata": {},
   "outputs": [],
   "source": []
  }
 ],
 "metadata": {
  "kernelspec": {
   "display_name": "Python 3 (ipykernel)",
   "language": "python",
   "name": "python3"
  },
  "language_info": {
   "codemirror_mode": {
    "name": "ipython",
    "version": 3
   },
   "file_extension": ".py",
   "mimetype": "text/x-python",
   "name": "python",
   "nbconvert_exporter": "python",
   "pygments_lexer": "ipython3",
   "version": "3.10.11"
  }
 },
 "nbformat": 4,
 "nbformat_minor": 5
}
