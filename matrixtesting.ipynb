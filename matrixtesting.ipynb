{
 "cells": [
  {
   "cell_type": "code",
   "execution_count": 1,
   "id": "a64fc3e0-6d93-44c2-aeef-b93e72f00eb9",
   "metadata": {},
   "outputs": [],
   "source": [
    "import pandas as pd\n",
    "cell_matrix = pd.read_parquet('/home/adm808/NormalizedCellMatrixSyn18485175.parquet')\n"
   ]
  },
  {
   "cell_type": "code",
   "execution_count": 2,
   "id": "8a2a5c21-66ae-4969-a9e0-c3e3fbc5df44",
   "metadata": {},
   "outputs": [
    {
     "data": {
      "text/html": [
       "<div>\n",
       "<style scoped>\n",
       "    .dataframe tbody tr th:only-of-type {\n",
       "        vertical-align: middle;\n",
       "    }\n",
       "\n",
       "    .dataframe tbody tr th {\n",
       "        vertical-align: top;\n",
       "    }\n",
       "\n",
       "    .dataframe thead th {\n",
       "        text-align: right;\n",
       "    }\n",
       "</style>\n",
       "<table border=\"1\" class=\"dataframe\">\n",
       "  <thead>\n",
       "    <tr style=\"text-align: right;\">\n",
       "      <th></th>\n",
       "      <th>AAACGGGAGATCCCGC.1</th>\n",
       "      <th>AAATGCCTCCAATGGT.1</th>\n",
       "      <th>AACCATGTCAGTGCAT.1</th>\n",
       "      <th>AACCATGTCTGTACGA.1</th>\n",
       "      <th>AACCGCGTCCGCATAA.1</th>\n",
       "      <th>AACGTTGGTTCAGGCC.1</th>\n",
       "      <th>AACTGGTGTACCGGCT.1</th>\n",
       "      <th>AAGACCTAGTTAACGA.1</th>\n",
       "      <th>AAGGAGCAGCAATCTC.1</th>\n",
       "      <th>AAGGAGCTCTGCTGCT.1</th>\n",
       "      <th>...</th>\n",
       "      <th>GCCTCTACACTTAACG.44</th>\n",
       "      <th>TCATTTGTCCGTAGGC.44</th>\n",
       "      <th>GATGAAACAGCGTAAG.45</th>\n",
       "      <th>GTGCGGTCAATCGGTT.46</th>\n",
       "      <th>ACTTGTTAGGAATTAC.48</th>\n",
       "      <th>AGGCCGTAGAGCAATT.48</th>\n",
       "      <th>AGTGAGGGTGCAACGA.48</th>\n",
       "      <th>CACACTCTCTCTGAGA.48</th>\n",
       "      <th>TAGTGGTAGAATGTTG.48</th>\n",
       "      <th>TGCCCATAGTAGGTGC.48</th>\n",
       "    </tr>\n",
       "  </thead>\n",
       "  <tbody>\n",
       "    <tr>\n",
       "      <th>FO538757.2</th>\n",
       "      <td>0.0</td>\n",
       "      <td>6.919779</td>\n",
       "      <td>11.637401</td>\n",
       "      <td>0.000000</td>\n",
       "      <td>7.831354</td>\n",
       "      <td>0.0</td>\n",
       "      <td>0.0</td>\n",
       "      <td>0.0</td>\n",
       "      <td>0.000000</td>\n",
       "      <td>0.0</td>\n",
       "      <td>...</td>\n",
       "      <td>0.000000</td>\n",
       "      <td>0.0</td>\n",
       "      <td>0.0</td>\n",
       "      <td>0.0</td>\n",
       "      <td>9.763305</td>\n",
       "      <td>0.0</td>\n",
       "      <td>0.0</td>\n",
       "      <td>0.0</td>\n",
       "      <td>0.0</td>\n",
       "      <td>0.0</td>\n",
       "    </tr>\n",
       "    <tr>\n",
       "      <th>SAMD11</th>\n",
       "      <td>0.0</td>\n",
       "      <td>0.000000</td>\n",
       "      <td>0.000000</td>\n",
       "      <td>0.000000</td>\n",
       "      <td>0.000000</td>\n",
       "      <td>0.0</td>\n",
       "      <td>0.0</td>\n",
       "      <td>0.0</td>\n",
       "      <td>0.000000</td>\n",
       "      <td>0.0</td>\n",
       "      <td>...</td>\n",
       "      <td>0.000000</td>\n",
       "      <td>0.0</td>\n",
       "      <td>0.0</td>\n",
       "      <td>0.0</td>\n",
       "      <td>0.000000</td>\n",
       "      <td>0.0</td>\n",
       "      <td>0.0</td>\n",
       "      <td>0.0</td>\n",
       "      <td>0.0</td>\n",
       "      <td>0.0</td>\n",
       "    </tr>\n",
       "    <tr>\n",
       "      <th>NOC2L</th>\n",
       "      <td>0.0</td>\n",
       "      <td>0.000000</td>\n",
       "      <td>0.000000</td>\n",
       "      <td>6.974242</td>\n",
       "      <td>0.000000</td>\n",
       "      <td>0.0</td>\n",
       "      <td>0.0</td>\n",
       "      <td>0.0</td>\n",
       "      <td>8.842948</td>\n",
       "      <td>0.0</td>\n",
       "      <td>...</td>\n",
       "      <td>0.000000</td>\n",
       "      <td>0.0</td>\n",
       "      <td>0.0</td>\n",
       "      <td>0.0</td>\n",
       "      <td>0.000000</td>\n",
       "      <td>0.0</td>\n",
       "      <td>0.0</td>\n",
       "      <td>0.0</td>\n",
       "      <td>0.0</td>\n",
       "      <td>0.0</td>\n",
       "    </tr>\n",
       "    <tr>\n",
       "      <th>KLHL17</th>\n",
       "      <td>0.0</td>\n",
       "      <td>0.000000</td>\n",
       "      <td>0.000000</td>\n",
       "      <td>0.000000</td>\n",
       "      <td>0.000000</td>\n",
       "      <td>0.0</td>\n",
       "      <td>0.0</td>\n",
       "      <td>0.0</td>\n",
       "      <td>0.000000</td>\n",
       "      <td>0.0</td>\n",
       "      <td>...</td>\n",
       "      <td>9.377234</td>\n",
       "      <td>0.0</td>\n",
       "      <td>0.0</td>\n",
       "      <td>0.0</td>\n",
       "      <td>0.000000</td>\n",
       "      <td>0.0</td>\n",
       "      <td>0.0</td>\n",
       "      <td>0.0</td>\n",
       "      <td>0.0</td>\n",
       "      <td>0.0</td>\n",
       "    </tr>\n",
       "    <tr>\n",
       "      <th>PLEKHN1</th>\n",
       "      <td>0.0</td>\n",
       "      <td>0.000000</td>\n",
       "      <td>0.000000</td>\n",
       "      <td>0.000000</td>\n",
       "      <td>0.000000</td>\n",
       "      <td>0.0</td>\n",
       "      <td>0.0</td>\n",
       "      <td>0.0</td>\n",
       "      <td>0.000000</td>\n",
       "      <td>0.0</td>\n",
       "      <td>...</td>\n",
       "      <td>0.000000</td>\n",
       "      <td>0.0</td>\n",
       "      <td>0.0</td>\n",
       "      <td>0.0</td>\n",
       "      <td>0.000000</td>\n",
       "      <td>0.0</td>\n",
       "      <td>0.0</td>\n",
       "      <td>0.0</td>\n",
       "      <td>0.0</td>\n",
       "      <td>0.0</td>\n",
       "    </tr>\n",
       "  </tbody>\n",
       "</table>\n",
       "<p>5 rows × 70634 columns</p>\n",
       "</div>"
      ],
      "text/plain": [
       "            AAACGGGAGATCCCGC.1  AAATGCCTCCAATGGT.1  AACCATGTCAGTGCAT.1  \\\n",
       "FO538757.2                 0.0            6.919779           11.637401   \n",
       "SAMD11                     0.0            0.000000            0.000000   \n",
       "NOC2L                      0.0            0.000000            0.000000   \n",
       "KLHL17                     0.0            0.000000            0.000000   \n",
       "PLEKHN1                    0.0            0.000000            0.000000   \n",
       "\n",
       "            AACCATGTCTGTACGA.1  AACCGCGTCCGCATAA.1  AACGTTGGTTCAGGCC.1  \\\n",
       "FO538757.2            0.000000            7.831354                 0.0   \n",
       "SAMD11                0.000000            0.000000                 0.0   \n",
       "NOC2L                 6.974242            0.000000                 0.0   \n",
       "KLHL17                0.000000            0.000000                 0.0   \n",
       "PLEKHN1               0.000000            0.000000                 0.0   \n",
       "\n",
       "            AACTGGTGTACCGGCT.1  AAGACCTAGTTAACGA.1  AAGGAGCAGCAATCTC.1  \\\n",
       "FO538757.2                 0.0                 0.0            0.000000   \n",
       "SAMD11                     0.0                 0.0            0.000000   \n",
       "NOC2L                      0.0                 0.0            8.842948   \n",
       "KLHL17                     0.0                 0.0            0.000000   \n",
       "PLEKHN1                    0.0                 0.0            0.000000   \n",
       "\n",
       "            AAGGAGCTCTGCTGCT.1  ...  GCCTCTACACTTAACG.44  TCATTTGTCCGTAGGC.44  \\\n",
       "FO538757.2                 0.0  ...             0.000000                  0.0   \n",
       "SAMD11                     0.0  ...             0.000000                  0.0   \n",
       "NOC2L                      0.0  ...             0.000000                  0.0   \n",
       "KLHL17                     0.0  ...             9.377234                  0.0   \n",
       "PLEKHN1                    0.0  ...             0.000000                  0.0   \n",
       "\n",
       "            GATGAAACAGCGTAAG.45  GTGCGGTCAATCGGTT.46  ACTTGTTAGGAATTAC.48  \\\n",
       "FO538757.2                  0.0                  0.0             9.763305   \n",
       "SAMD11                      0.0                  0.0             0.000000   \n",
       "NOC2L                       0.0                  0.0             0.000000   \n",
       "KLHL17                      0.0                  0.0             0.000000   \n",
       "PLEKHN1                     0.0                  0.0             0.000000   \n",
       "\n",
       "            AGGCCGTAGAGCAATT.48  AGTGAGGGTGCAACGA.48  CACACTCTCTCTGAGA.48  \\\n",
       "FO538757.2                  0.0                  0.0                  0.0   \n",
       "SAMD11                      0.0                  0.0                  0.0   \n",
       "NOC2L                       0.0                  0.0                  0.0   \n",
       "KLHL17                      0.0                  0.0                  0.0   \n",
       "PLEKHN1                     0.0                  0.0                  0.0   \n",
       "\n",
       "            TAGTGGTAGAATGTTG.48  TGCCCATAGTAGGTGC.48  \n",
       "FO538757.2                  0.0                  0.0  \n",
       "SAMD11                      0.0                  0.0  \n",
       "NOC2L                       0.0                  0.0  \n",
       "KLHL17                      0.0                  0.0  \n",
       "PLEKHN1                     0.0                  0.0  \n",
       "\n",
       "[5 rows x 70634 columns]"
      ]
     },
     "execution_count": 2,
     "metadata": {},
     "output_type": "execute_result"
    }
   ],
   "source": [
    "cell_matrix.head()"
   ]
  },
  {
   "cell_type": "code",
   "execution_count": 3,
   "id": "204c3585-ace2-47da-b389-51b01fed320a",
   "metadata": {},
   "outputs": [],
   "source": [
    "train_metadata = pd.read_parquet('/home/adm808/CellMetadataSyn18485175.parquet')"
   ]
  },
  {
   "cell_type": "code",
   "execution_count": 4,
   "id": "71b60f3c-be0c-41a9-b0f5-22d1eb86f173",
   "metadata": {},
   "outputs": [
    {
     "name": "stdout",
     "output_type": "stream",
     "text": [
      "(70634, 8)\n"
     ]
    }
   ],
   "source": [
    "print(train_metadata.shape)"
   ]
  },
  {
   "cell_type": "code",
   "execution_count": 17,
   "id": "df09f3b9-f3f9-4f9e-bf01-b00d7753ab5b",
   "metadata": {},
   "outputs": [
    {
     "data": {
      "text/plain": [
       "(70634, 8)"
      ]
     },
     "execution_count": 17,
     "metadata": {},
     "output_type": "execute_result"
    }
   ],
   "source": [
    "train_metadata.head()\n",
    "train_metadata.shape"
   ]
  },
  {
   "cell_type": "code",
   "execution_count": 6,
   "id": "e9acebc8-727f-4579-af57-01f4c9bd43f4",
   "metadata": {},
   "outputs": [],
   "source": [
    "cell_type = 'Mic'"
   ]
  },
  {
   "cell_type": "code",
   "execution_count": 7,
   "id": "a5860032-6f46-455b-8990-39f842ff174a",
   "metadata": {},
   "outputs": [],
   "source": [
    "import numpy as np\n",
    "def select_missing_genes(filtered_matrix):\n",
    "    mean_threshold = 1\n",
    "    missingness_threshold = 95\n",
    "    mean_gene_expression = np.mean(filtered_matrix, axis=1)\n",
    "    missingness = (filtered_matrix == 0).sum(axis=1) / filtered_matrix.shape[1] * 100\n",
    "    null_expression = (missingness > missingness_threshold) & (mean_gene_expression < mean_threshold)\n",
    "    genes_to_drop = filtered_matrix.index[null_expression].tolist()\n",
    "    return genes_to_drop\n",
    "\n"
   ]
  },
  {
   "cell_type": "code",
   "execution_count": 13,
   "id": "a692dba8-4b2c-4ade-bc92-84c3a5379ecf",
   "metadata": {},
   "outputs": [
    {
     "name": "stdout",
     "output_type": "stream",
     "text": [
      "Number of genes and cells that are: Mic(17926, 1920)\n"
     ]
    }
   ],
   "source": [
    "def drop_missing_genes(matrix, cell_metadata, cell_type):\n",
    "    cell_type_specific_metadata = cell_metadata[cell_metadata['broad.cell.type'] == cell_type]\n",
    "    cell_names = cell_type_specific_metadata['TAG']\n",
    "    matrix_filtered = matrix[cell_names]\n",
    "    print(f'Number of genes and cells that are: {cell_type}{matrix_filtered.shape}')\n",
    "    genes_to_drop = select_missing_genes(matrix_filtered)\n",
    "    df_filtered = matrix_filtered.drop(genes_to_drop, axis=0)\n",
    "    return df_filtered, cell_type_specific_metadata\n",
    "\n",
    "train_matrix_filtered = drop_missing_genes(cell_matrix, train_metadata, cell_type)"
   ]
  },
  {
   "cell_type": "code",
   "execution_count": 21,
   "id": "2328be54-a399-4f65-bbb5-3500356e832b",
   "metadata": {},
   "outputs": [],
   "source": [
    "def filter_metadata(cell_metadata, cell_type):\n",
    "    cell_specific_metadata = cell_metadata[cell_metadata['broad.cell.type'] == cell_type]\n",
    "    return cell_specific_metadata\n",
    "train_metadata_filtered = filter_metadata(train_metadata, cell_type)\n",
    "#test_metadata_filtered = filter_metadata(test_metadata, cell_type)"
   ]
  },
  {
   "cell_type": "code",
   "execution_count": 22,
   "id": "b3e24726-25db-4ba6-af8b-b03374627f2f",
   "metadata": {},
   "outputs": [
    {
     "name": "stdout",
     "output_type": "stream",
     "text": [
      "(1920, 8)\n"
     ]
    }
   ],
   "source": [
    "print(train_metadata_filtered.shape)"
   ]
  },
  {
   "cell_type": "code",
   "execution_count": null,
   "id": "4ca1a1e6-fac5-42ce-9c27-492b3c37d451",
   "metadata": {},
   "outputs": [],
   "source": []
  }
 ],
 "metadata": {
  "kernelspec": {
   "display_name": "Python 3 (ipykernel)",
   "language": "python",
   "name": "python3"
  },
  "language_info": {
   "codemirror_mode": {
    "name": "ipython",
    "version": 3
   },
   "file_extension": ".py",
   "mimetype": "text/x-python",
   "name": "python",
   "nbconvert_exporter": "python",
   "pygments_lexer": "ipython3",
   "version": "3.10.11"
  }
 },
 "nbformat": 4,
 "nbformat_minor": 5
}
