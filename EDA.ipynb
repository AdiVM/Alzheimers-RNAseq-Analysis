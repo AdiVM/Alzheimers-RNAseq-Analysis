{
 "cells": [
  {
   "cell_type": "code",
   "execution_count": 2,
   "metadata": {},
   "outputs": [],
   "source": [
    "import pandas as pd"
   ]
  },
  {
   "cell_type": "code",
   "execution_count": 3,
   "metadata": {},
   "outputs": [],
   "source": [
    "metadata = pd.read_parquet('../CellMetadataSyn18485175.parquet')"
   ]
  },
  {
   "cell_type": "code",
   "execution_count": 4,
   "metadata": {},
   "outputs": [
    {
     "data": {
      "text/html": [
       "<div>\n",
       "<style scoped>\n",
       "    .dataframe tbody tr th:only-of-type {\n",
       "        vertical-align: middle;\n",
       "    }\n",
       "\n",
       "    .dataframe tbody tr th {\n",
       "        vertical-align: top;\n",
       "    }\n",
       "\n",
       "    .dataframe thead th {\n",
       "        text-align: right;\n",
       "    }\n",
       "</style>\n",
       "<table border=\"1\" class=\"dataframe\">\n",
       "  <thead>\n",
       "    <tr style=\"text-align: right;\">\n",
       "      <th></th>\n",
       "      <th>Unnamed: 0</th>\n",
       "      <th>projid</th>\n",
       "      <th>TAG</th>\n",
       "      <th>age_first_ad_dx</th>\n",
       "      <th>msex</th>\n",
       "      <th>apoe_genotype</th>\n",
       "      <th>sample</th>\n",
       "      <th>broad.cell.type</th>\n",
       "    </tr>\n",
       "  </thead>\n",
       "  <tbody>\n",
       "    <tr>\n",
       "      <th>0</th>\n",
       "      <td>0</td>\n",
       "      <td>11409232</td>\n",
       "      <td>AAACGGGAGATCCCGC.1</td>\n",
       "      <td>None</td>\n",
       "      <td>1.0</td>\n",
       "      <td>33.0</td>\n",
       "      <td>1</td>\n",
       "      <td>Ex</td>\n",
       "    </tr>\n",
       "    <tr>\n",
       "      <th>1</th>\n",
       "      <td>1</td>\n",
       "      <td>11409232</td>\n",
       "      <td>AAATGCCTCCAATGGT.1</td>\n",
       "      <td>None</td>\n",
       "      <td>1.0</td>\n",
       "      <td>33.0</td>\n",
       "      <td>1</td>\n",
       "      <td>Ex</td>\n",
       "    </tr>\n",
       "    <tr>\n",
       "      <th>2</th>\n",
       "      <td>2</td>\n",
       "      <td>11409232</td>\n",
       "      <td>AACCATGTCAGTGCAT.1</td>\n",
       "      <td>None</td>\n",
       "      <td>1.0</td>\n",
       "      <td>33.0</td>\n",
       "      <td>1</td>\n",
       "      <td>Ex</td>\n",
       "    </tr>\n",
       "    <tr>\n",
       "      <th>3</th>\n",
       "      <td>3</td>\n",
       "      <td>11409232</td>\n",
       "      <td>AACCATGTCTGTACGA.1</td>\n",
       "      <td>None</td>\n",
       "      <td>1.0</td>\n",
       "      <td>33.0</td>\n",
       "      <td>1</td>\n",
       "      <td>Ex</td>\n",
       "    </tr>\n",
       "    <tr>\n",
       "      <th>4</th>\n",
       "      <td>4</td>\n",
       "      <td>11409232</td>\n",
       "      <td>AACCGCGTCCGCATAA.1</td>\n",
       "      <td>None</td>\n",
       "      <td>1.0</td>\n",
       "      <td>33.0</td>\n",
       "      <td>1</td>\n",
       "      <td>Ex</td>\n",
       "    </tr>\n",
       "  </tbody>\n",
       "</table>\n",
       "</div>"
      ],
      "text/plain": [
       "   Unnamed: 0    projid                 TAG age_first_ad_dx  msex  \\\n",
       "0           0  11409232  AAACGGGAGATCCCGC.1            None   1.0   \n",
       "1           1  11409232  AAATGCCTCCAATGGT.1            None   1.0   \n",
       "2           2  11409232  AACCATGTCAGTGCAT.1            None   1.0   \n",
       "3           3  11409232  AACCATGTCTGTACGA.1            None   1.0   \n",
       "4           4  11409232  AACCGCGTCCGCATAA.1            None   1.0   \n",
       "\n",
       "   apoe_genotype  sample broad.cell.type  \n",
       "0           33.0       1              Ex  \n",
       "1           33.0       1              Ex  \n",
       "2           33.0       1              Ex  \n",
       "3           33.0       1              Ex  \n",
       "4           33.0       1              Ex  "
      ]
     },
     "execution_count": 4,
     "metadata": {},
     "output_type": "execute_result"
    }
   ],
   "source": [
    "metadata.head()"
   ]
  },
  {
   "cell_type": "code",
   "execution_count": 5,
   "metadata": {},
   "outputs": [
    {
     "data": {
      "text/plain": [
       "apoe_genotype\n",
       "33.0    36203\n",
       "23.0    17526\n",
       "34.0     9166\n",
       "44.0     6181\n",
       "Name: count, dtype: int64"
      ]
     },
     "execution_count": 5,
     "metadata": {},
     "output_type": "execute_result"
    }
   ],
   "source": [
    "metadata.apoe_genotype.value_counts()"
   ]
  },
  {
   "cell_type": "markdown",
   "metadata": {},
   "source": [
    "controls = metadata[metadata.age_first_ad_dx.isna()]"
   ]
  },
  {
   "cell_type": "code",
   "execution_count": 6,
   "metadata": {},
   "outputs": [],
   "source": [
    "controls = metadata[metadata.age_first_ad_dx.isna()]"
   ]
  },
  {
   "cell_type": "code",
   "execution_count": 7,
   "metadata": {},
   "outputs": [],
   "source": [
    "cases = metadata[metadata.age_first_ad_dx.notna()]"
   ]
  },
  {
   "cell_type": "code",
   "execution_count": 8,
   "metadata": {},
   "outputs": [
    {
     "data": {
      "text/html": [
       "<div>\n",
       "<style scoped>\n",
       "    .dataframe tbody tr th:only-of-type {\n",
       "        vertical-align: middle;\n",
       "    }\n",
       "\n",
       "    .dataframe tbody tr th {\n",
       "        vertical-align: top;\n",
       "    }\n",
       "\n",
       "    .dataframe thead th {\n",
       "        text-align: right;\n",
       "    }\n",
       "</style>\n",
       "<table border=\"1\" class=\"dataframe\">\n",
       "  <thead>\n",
       "    <tr style=\"text-align: right;\">\n",
       "      <th></th>\n",
       "      <th>Unnamed: 0</th>\n",
       "      <th>projid</th>\n",
       "      <th>TAG</th>\n",
       "      <th>age_first_ad_dx</th>\n",
       "      <th>msex</th>\n",
       "      <th>apoe_genotype</th>\n",
       "      <th>sample</th>\n",
       "      <th>broad.cell.type</th>\n",
       "    </tr>\n",
       "  </thead>\n",
       "  <tbody>\n",
       "    <tr>\n",
       "      <th>0</th>\n",
       "      <td>0</td>\n",
       "      <td>11409232</td>\n",
       "      <td>AAACGGGAGATCCCGC.1</td>\n",
       "      <td>None</td>\n",
       "      <td>1.0</td>\n",
       "      <td>33.0</td>\n",
       "      <td>1</td>\n",
       "      <td>Ex</td>\n",
       "    </tr>\n",
       "    <tr>\n",
       "      <th>1</th>\n",
       "      <td>1</td>\n",
       "      <td>11409232</td>\n",
       "      <td>AAATGCCTCCAATGGT.1</td>\n",
       "      <td>None</td>\n",
       "      <td>1.0</td>\n",
       "      <td>33.0</td>\n",
       "      <td>1</td>\n",
       "      <td>Ex</td>\n",
       "    </tr>\n",
       "    <tr>\n",
       "      <th>2</th>\n",
       "      <td>2</td>\n",
       "      <td>11409232</td>\n",
       "      <td>AACCATGTCAGTGCAT.1</td>\n",
       "      <td>None</td>\n",
       "      <td>1.0</td>\n",
       "      <td>33.0</td>\n",
       "      <td>1</td>\n",
       "      <td>Ex</td>\n",
       "    </tr>\n",
       "    <tr>\n",
       "      <th>3</th>\n",
       "      <td>3</td>\n",
       "      <td>11409232</td>\n",
       "      <td>AACCATGTCTGTACGA.1</td>\n",
       "      <td>None</td>\n",
       "      <td>1.0</td>\n",
       "      <td>33.0</td>\n",
       "      <td>1</td>\n",
       "      <td>Ex</td>\n",
       "    </tr>\n",
       "    <tr>\n",
       "      <th>4</th>\n",
       "      <td>4</td>\n",
       "      <td>11409232</td>\n",
       "      <td>AACCGCGTCCGCATAA.1</td>\n",
       "      <td>None</td>\n",
       "      <td>1.0</td>\n",
       "      <td>33.0</td>\n",
       "      <td>1</td>\n",
       "      <td>Ex</td>\n",
       "    </tr>\n",
       "  </tbody>\n",
       "</table>\n",
       "</div>"
      ],
      "text/plain": [
       "   Unnamed: 0    projid                 TAG age_first_ad_dx  msex  \\\n",
       "0           0  11409232  AAACGGGAGATCCCGC.1            None   1.0   \n",
       "1           1  11409232  AAATGCCTCCAATGGT.1            None   1.0   \n",
       "2           2  11409232  AACCATGTCAGTGCAT.1            None   1.0   \n",
       "3           3  11409232  AACCATGTCTGTACGA.1            None   1.0   \n",
       "4           4  11409232  AACCGCGTCCGCATAA.1            None   1.0   \n",
       "\n",
       "   apoe_genotype  sample broad.cell.type  \n",
       "0           33.0       1              Ex  \n",
       "1           33.0       1              Ex  \n",
       "2           33.0       1              Ex  \n",
       "3           33.0       1              Ex  \n",
       "4           33.0       1              Ex  "
      ]
     },
     "execution_count": 8,
     "metadata": {},
     "output_type": "execute_result"
    }
   ],
   "source": [
    "controls.head()"
   ]
  },
  {
   "cell_type": "code",
   "execution_count": 9,
   "metadata": {},
   "outputs": [
    {
     "data": {
      "text/plain": [
       "((44486, 8), (70634, 8), (26148, 8))"
      ]
     },
     "execution_count": 9,
     "metadata": {},
     "output_type": "execute_result"
    }
   ],
   "source": [
    "controls.shape, metadata.shape, cases.shape"
   ]
  },
  {
   "cell_type": "code",
   "execution_count": 10,
   "metadata": {},
   "outputs": [
    {
     "data": {
      "text/plain": [
       "age_first_ad_dx\n",
       "90+                   5066\n",
       "83.723477070499655    2853\n",
       "86.92402464065708     2279\n",
       "86.885694729637237    2024\n",
       "75.529089664613281    1877\n",
       "86.934976043805619    1855\n",
       "68.925393566050644    1572\n",
       "77.33607118412047     1516\n",
       "82.028747433264883    1447\n",
       "73.051334702258728    1304\n",
       "77.037645448323062    1274\n",
       "85.136208076659827    1171\n",
       "84.646132785763172     815\n",
       "83.474332648870643     745\n",
       "84.522929500342229     350\n",
       "Name: count, dtype: int64"
      ]
     },
     "execution_count": 10,
     "metadata": {},
     "output_type": "execute_result"
    }
   ],
   "source": [
    "metadata.age_first_ad_dx.value_counts()"
   ]
  },
  {
   "cell_type": "code",
   "execution_count": 11,
   "metadata": {},
   "outputs": [
    {
     "data": {
      "text/plain": [
       "<bound method NDFrame.head of        Unnamed: 0    projid                  TAG     age_first_ad_dx  msex  \\\n",
       "847           847  10248033   AAACCTGCACTTACGA.4  86.885694729637237   1.0   \n",
       "848           848  10248033   AAACCTGTCATTTGGG.4  86.885694729637237   1.0   \n",
       "849           849  10248033   AAACGGGGTCTTCGTC.4  86.885694729637237   1.0   \n",
       "850           850  10248033   AAACGGGGTGCAGACA.4  86.885694729637237   1.0   \n",
       "851           851  10248033   AAACGGGTCATGTAGC.4  86.885694729637237   1.0   \n",
       "...           ...       ...                  ...                 ...   ...   \n",
       "70629       70629  11302830  AGGCCGTAGAGCAATT.48  84.522929500342229   1.0   \n",
       "70630       70630  11302830  AGTGAGGGTGCAACGA.48  84.522929500342229   1.0   \n",
       "70631       70631  11302830  CACACTCTCTCTGAGA.48  84.522929500342229   1.0   \n",
       "70632       70632  11302830  TAGTGGTAGAATGTTG.48  84.522929500342229   1.0   \n",
       "70633       70633  11302830  TGCCCATAGTAGGTGC.48  84.522929500342229   1.0   \n",
       "\n",
       "       apoe_genotype  sample broad.cell.type  \n",
       "847             44.0       4              Ex  \n",
       "848             44.0       4              Ex  \n",
       "849             44.0       4              Ex  \n",
       "850             44.0       4              Ex  \n",
       "851             44.0       4              Ex  \n",
       "...              ...     ...             ...  \n",
       "70629           34.0      48             Per  \n",
       "70630           34.0      48             Per  \n",
       "70631           34.0      48             Per  \n",
       "70632           34.0      48             End  \n",
       "70633           34.0      48             Per  \n",
       "\n",
       "[26148 rows x 8 columns]>"
      ]
     },
     "execution_count": 11,
     "metadata": {},
     "output_type": "execute_result"
    }
   ],
   "source": [
    "cases.head"
   ]
  },
  {
   "cell_type": "code",
   "execution_count": 12,
   "metadata": {},
   "outputs": [
    {
     "data": {
      "text/plain": [
       "apoe_genotype\n",
       "33.0    0.570001\n",
       "23.0    0.238516\n",
       "34.0    0.168748\n",
       "44.0    0.022736\n",
       "Name: proportion, dtype: float64"
      ]
     },
     "execution_count": 12,
     "metadata": {},
     "output_type": "execute_result"
    }
   ],
   "source": [
    "controls.apoe_genotype.value_counts(normalize=True)"
   ]
  },
  {
   "cell_type": "code",
   "execution_count": 13,
   "metadata": {},
   "outputs": [
    {
     "data": {
      "text/plain": [
       "apoe_genotype\n",
       "33.0    0.448753\n",
       "23.0    0.278683\n",
       "44.0    0.199059\n",
       "34.0    0.073505\n",
       "Name: proportion, dtype: float64"
      ]
     },
     "execution_count": 13,
     "metadata": {},
     "output_type": "execute_result"
    }
   ],
   "source": [
    "cases.apoe_genotype.value_counts(normalize=True)"
   ]
  }
 ],
 "metadata": {
  "kernelspec": {
   "display_name": "base",
   "language": "python",
   "name": "python3"
  },
  "language_info": {
   "codemirror_mode": {
    "name": "ipython",
    "version": 3
   },
   "file_extension": ".py",
   "mimetype": "text/x-python",
   "name": "python",
   "nbconvert_exporter": "python",
   "pygments_lexer": "ipython3",
   "version": "3.10.10"
  }
 },
 "nbformat": 4,
 "nbformat_minor": 2
}
