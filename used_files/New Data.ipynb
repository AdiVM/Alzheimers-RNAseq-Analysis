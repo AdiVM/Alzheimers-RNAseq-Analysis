{
 "cells": [
  {
   "cell_type": "code",
   "execution_count": 2,
   "id": "ea35f2c4-bc17-4e7a-923d-0e1db084612d",
   "metadata": {},
   "outputs": [],
   "source": [
    "import os\n",
    "import pandas as pd"
   ]
  },
  {
   "cell_type": "code",
   "execution_count": 4,
   "id": "cc66d3ab-520d-445f-9027-e4459d732322",
   "metadata": {},
   "outputs": [
    {
     "name": "stdout",
     "output_type": "stream",
     "text": [
      "Files in directory: ['._ROSMAP_Brain.snRNAseq_counts_sparse_format_20230420.csv.gz', 'ROSMAP_Brain.snRNAseq_counts_sparse_format_20230420.csv.gz']\n"
     ]
    }
   ],
   "source": [
    "data_directory = '/n/groups/patel/randy/single_cell/syn23650894/syn16780177/data'\n",
    "files = os.listdir(data_directory)\n",
    "print(\"Files in directory:\", files)"
   ]
  },
  {
   "cell_type": "code",
   "execution_count": null,
   "id": "ae4a6818-dcde-4aa2-95fb-c2ac2d554d9f",
   "metadata": {},
   "outputs": [],
   "source": []
  }
 ],
 "metadata": {
  "kernelspec": {
   "display_name": "Python 3 (ipykernel)",
   "language": "python",
   "name": "python3"
  },
  "language_info": {
   "codemirror_mode": {
    "name": "ipython",
    "version": 3
   },
   "file_extension": ".py",
   "mimetype": "text/x-python",
   "name": "python",
   "nbconvert_exporter": "python",
   "pygments_lexer": "ipython3",
   "version": "3.10.11"
  }
 },
 "nbformat": 4,
 "nbformat_minor": 5
}
