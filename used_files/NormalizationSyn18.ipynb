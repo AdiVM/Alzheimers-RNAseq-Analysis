{
 "cells": [
  {
   "cell_type": "code",
   "execution_count": 2,
   "id": "5fe6ca33-7585-4ec9-8dcf-7c8c33e4512f",
   "metadata": {},
   "outputs": [],
   "source": [
    "import pandas as pd\n",
    "CellMatrixSyn18485175 = pd.read_parquet('/home/adm808/CellMatrixSyn18485175.parquet')"
   ]
  },
  {
   "cell_type": "code",
   "execution_count": 3,
   "id": "525449bc-d8e9-439a-bba4-ee225597fab2",
   "metadata": {},
   "outputs": [],
   "source": [
    "import numpy as np\n",
    "\n",
    "# Assuming df is your gene expression DataFrame\n",
    "# Rows are genes, columns are cells\n",
    "\n",
    "# Step 1: Calculate CPM\n",
    "cpm_df = CellMatrixSyn18485175.div(CellMatrixSyn18485175.sum(axis=0), axis=1) * 1e6\n",
    "\n",
    "# Step 2: Apply log2 transformation\n",
    "log2_cpm_df = np.log2(cpm_df + 1)\n",
    "\n",
    "# Now log2_cpm_df contains the normalized and transformed data\n"
   ]
  },
  {
   "cell_type": "code",
   "execution_count": 4,
   "id": "533f766c-9fa7-4776-b38f-efb112662aea",
   "metadata": {},
   "outputs": [],
   "source": [
    "log2_cpm_df.to_parquet('/home/adm808/NormalizedCellMatrixSyn18485175.parquet')"
   ]
  },
  {
   "cell_type": "code",
   "execution_count": null,
   "id": "d5bbc6ba-c1b7-453a-8ae0-c7a62768b33c",
   "metadata": {},
   "outputs": [],
   "source": []
  }
 ],
 "metadata": {
  "kernelspec": {
   "display_name": "Python 3 (ipykernel)",
   "language": "python",
   "name": "python3"
  },
  "language_info": {
   "codemirror_mode": {
    "name": "ipython",
    "version": 3
   },
   "file_extension": ".py",
   "mimetype": "text/x-python",
   "name": "python",
   "nbconvert_exporter": "python",
   "pygments_lexer": "ipython3",
   "version": "3.10.11"
  }
 },
 "nbformat": 4,
 "nbformat_minor": 5
}
